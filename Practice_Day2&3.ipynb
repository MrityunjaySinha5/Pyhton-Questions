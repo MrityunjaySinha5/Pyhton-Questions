{
 "cells": [
  {
   "cell_type": "code",
   "execution_count": 1,
   "id": "46645a96",
   "metadata": {},
   "outputs": [
    {
     "name": "stdout",
     "output_type": "stream",
     "text": [
      "hello world-hello me\n"
     ]
    }
   ],
   "source": [
    "print(\"hello world\", end =\"-\")\n",
    "print(\"hello me\")"
   ]
  },
  {
   "cell_type": "code",
   "execution_count": null,
   "id": "22615e88",
   "metadata": {},
   "outputs": [],
   "source": [
    "call by object reference"
   ]
  },
  {
   "cell_type": "markdown",
   "id": "4079261c",
   "metadata": {},
   "source": [
    "multi line string\n"
   ]
  },
  {
   "cell_type": "code",
   "execution_count": 6,
   "id": "8c36ac8c",
   "metadata": {},
   "outputs": [],
   "source": [
    "address =\"\"\"street name\n",
    "city name\n",
    "state \n",
    "pincode\"\"\""
   ]
  },
  {
   "cell_type": "code",
   "execution_count": 7,
   "id": "a9bdc15c",
   "metadata": {},
   "outputs": [
    {
     "name": "stdout",
     "output_type": "stream",
     "text": [
      "street name\n",
      "city name\n",
      "state \n",
      "pincode\n"
     ]
    }
   ],
   "source": [
    "print(address)"
   ]
  },
  {
   "cell_type": "code",
   "execution_count": 8,
   "id": "9ad84bff",
   "metadata": {},
   "outputs": [
    {
     "name": "stdout",
     "output_type": "stream",
     "text": [
      "my name is mrityunjay and i work in futurense\n"
     ]
    }
   ],
   "source": [
    "# formatting string\n",
    "name =  \"mrityunjay\"\n",
    "company = \"futurense\"\n",
    "print(f\"my name is {name} and i work in {company}\")"
   ]
  },
  {
   "cell_type": "code",
   "execution_count": 9,
   "id": "bc2440d8",
   "metadata": {},
   "outputs": [],
   "source": [
    "# today implementation assignment\n",
    "# use the formatting for converting the float number into string"
   ]
  },
  {
   "cell_type": "code",
   "execution_count": 12,
   "id": "5478466b",
   "metadata": {},
   "outputs": [
    {
     "name": "stdout",
     "output_type": "stream",
     "text": [
      "my grade are 7.26\n"
     ]
    }
   ],
   "source": [
    "grade = 7.26\n",
    "grade = f\"{grade}\"\n",
    "print(\"my grade are {}\".format(grade))"
   ]
  },
  {
   "cell_type": "code",
   "execution_count": 14,
   "id": "33424db1",
   "metadata": {},
   "outputs": [
    {
     "name": "stdout",
     "output_type": "stream",
     "text": [
      "<class 'str'>\n"
     ]
    }
   ],
   "source": [
    "print(type(grade))"
   ]
  },
  {
   "cell_type": "code",
   "execution_count": null,
   "id": "a1f0ff5d",
   "metadata": {},
   "outputs": [],
   "source": [
    "# operators\n",
    "'''\n",
    "Assignment\n",
    "Comparison\n",
    "Logical\n",
    "Bitwise\n",
    "Membership\n",
    "Identity\n",
    "\n",
    "'''"
   ]
  },
  {
   "cell_type": "code",
   "execution_count": 40,
   "id": "8eaa89dc",
   "metadata": {},
   "outputs": [
    {
     "data": {
      "text/plain": [
       "'\\n** exponent (ritght to left)\\n/ * // % * (same priority but less than exponent) OOE (left to right)\\n+ - (least priority) OOE (left to right)\\n'"
      ]
     },
     "execution_count": 40,
     "metadata": {},
     "output_type": "execute_result"
    }
   ],
   "source": [
    "# priority order\n",
    "\"\"\"\n",
    "** exponent (ritght to left)\n",
    "/ * // % * (same priority but less than exponent) OOE (left to right)\n",
    "+ - (least priority) OOE (left to right)\n",
    "\"\"\""
   ]
  },
  {
   "cell_type": "code",
   "execution_count": 17,
   "id": "a388d930",
   "metadata": {},
   "outputs": [],
   "source": [
    "# Assignment\n",
    "\n",
    "# literal is 10 here\n",
    "x = 10\n",
    "\n",
    "# right hand side expression\n",
    "x = x+ 5\n",
    "# or\n",
    "x+= 5\n",
    "\n",
    "# +=, *=, /="
   ]
  },
  {
   "cell_type": "code",
   "execution_count": 18,
   "id": "76480ed4",
   "metadata": {},
   "outputs": [],
   "source": [
    "# comparison\n",
    "\n",
    "# >, >=, < , <=, !=\n",
    "\n"
   ]
  },
  {
   "cell_type": "code",
   "execution_count": 37,
   "id": "2c1dbfd2",
   "metadata": {},
   "outputs": [],
   "source": [
    "# logical operator\n",
    "\n",
    "# condition => valid (one or two)"
   ]
  },
  {
   "cell_type": "code",
   "execution_count": 36,
   "id": "c3c1b888",
   "metadata": {},
   "outputs": [
    {
     "data": {
      "text/plain": [
       "'\\n      8421\\n0-15\\n\\n7     0111\\n13    1101\\n\\n&     0101\\n\\n7 & 13 = 5\\n\\n|     1111\\n\\n7 | 13 = 15\\n\\n'"
      ]
     },
     "execution_count": 36,
     "metadata": {},
     "output_type": "execute_result"
    }
   ],
   "source": [
    "# bitwise operator\n",
    "'''\n",
    "      8421\n",
    "0-15\n",
    "\n",
    "7     0111\n",
    "13    1101\n",
    "\n",
    "&     0101\n",
    "\n",
    "7 & 13 = 5\n",
    "\n",
    "|     1111\n",
    "\n",
    "7 | 13 = 15\n",
    "\n",
    "'''"
   ]
  },
  {
   "cell_type": "code",
   "execution_count": 19,
   "id": "db3bb1b1",
   "metadata": {},
   "outputs": [
    {
     "data": {
      "text/plain": [
       "5"
      ]
     },
     "execution_count": 19,
     "metadata": {},
     "output_type": "execute_result"
    }
   ],
   "source": [
    "7 & 13"
   ]
  },
  {
   "cell_type": "code",
   "execution_count": 20,
   "id": "f7312735",
   "metadata": {},
   "outputs": [
    {
     "data": {
      "text/plain": [
       "15"
      ]
     },
     "execution_count": 20,
     "metadata": {},
     "output_type": "execute_result"
    }
   ],
   "source": [
    "7 | 13"
   ]
  },
  {
   "cell_type": "code",
   "execution_count": 21,
   "id": "121e468b",
   "metadata": {},
   "outputs": [],
   "source": [
    "# bitwise right operator \n",
    "# bitwise left operator"
   ]
  },
  {
   "cell_type": "code",
   "execution_count": 23,
   "id": "944aa245",
   "metadata": {},
   "outputs": [],
   "source": [
    "# membership operator\n",
    "\n",
    "# in , not in "
   ]
  },
  {
   "cell_type": "code",
   "execution_count": 24,
   "id": "80f64924",
   "metadata": {},
   "outputs": [
    {
     "data": {
      "text/plain": [
       "True"
      ]
     },
     "execution_count": 24,
     "metadata": {},
     "output_type": "execute_result"
    }
   ],
   "source": [
    "# identity - it validates if the data type is the class or not\n",
    "\n",
    "x = 10\n",
    "type(x) is int"
   ]
  },
  {
   "cell_type": "code",
   "execution_count": 25,
   "id": "8504a5a1",
   "metadata": {},
   "outputs": [],
   "source": [
    "# python\n",
    "# terminologies\n",
    "# data type\n",
    "# mutable vs immutable\n",
    "# operator\n",
    "# string formatting"
   ]
  },
  {
   "cell_type": "code",
   "execution_count": 26,
   "id": "31635524",
   "metadata": {},
   "outputs": [],
   "source": [
    "# is operator check the memory address of objects"
   ]
  },
  {
   "cell_type": "code",
   "execution_count": 28,
   "id": "6e0eba58",
   "metadata": {},
   "outputs": [
    {
     "data": {
      "text/plain": [
       "False"
      ]
     },
     "execution_count": 28,
     "metadata": {},
     "output_type": "execute_result"
    }
   ],
   "source": [
    "x = 20 \n",
    "y = 10\n",
    "\n",
    "x is y"
   ]
  },
  {
   "cell_type": "code",
   "execution_count": null,
   "id": "cbde9f30",
   "metadata": {},
   "outputs": [],
   "source": [
    "# operator priority order"
   ]
  },
  {
   "cell_type": "code",
   "execution_count": 35,
   "id": "774f69e2",
   "metadata": {},
   "outputs": [
    {
     "data": {
      "text/plain": [
       "'\\nP – Parentheses\\nE – Exponentiation\\nM – Multiplication\\nD – Division\\nA – Addition\\nS – Subtraction\\n\\n'"
      ]
     },
     "execution_count": 35,
     "metadata": {},
     "output_type": "execute_result"
    }
   ],
   "source": [
    "# bro\n",
    "'''\n",
    "P – Parentheses\n",
    "E – Exponentiation\n",
    "M – Multiplication\n",
    "D – Division\n",
    "A – Addition\n",
    "S – Subtraction\n",
    "\n",
    "'''"
   ]
  },
  {
   "cell_type": "code",
   "execution_count": 41,
   "id": "5d4e2068",
   "metadata": {},
   "outputs": [],
   "source": [
    "# --> Assignment\n",
    "# Q--Difference between .py and .pyc file?\n",
    "# Q--When we create a variable in which memory it is created? \n",
    "# Q--Identifier vs Keyword?\n",
    "# Q-- to implement bitwise xor "
   ]
  },
  {
   "cell_type": "code",
   "execution_count": 42,
   "id": "c277c38a",
   "metadata": {},
   "outputs": [
    {
     "data": {
      "text/plain": [
       "''"
      ]
     },
     "execution_count": 42,
     "metadata": {},
     "output_type": "execute_result"
    }
   ],
   "source": [
    "city = \"BANGALORE\"\n",
    "city[-1:-4]"
   ]
  },
  {
   "cell_type": "code",
   "execution_count": 43,
   "id": "a050d58b",
   "metadata": {},
   "outputs": [
    {
     "data": {
      "text/plain": [
       "'ERO'"
      ]
     },
     "execution_count": 43,
     "metadata": {},
     "output_type": "execute_result"
    }
   ],
   "source": [
    "city[-1:5:-1]"
   ]
  },
  {
   "cell_type": "code",
   "execution_count": 44,
   "id": "5f6f811a",
   "metadata": {},
   "outputs": [],
   "source": [
    "# Take two input from the user and validte the input given if it's integer then \n",
    "# perform the arithmetic operation other ask arthemetic funtion "
   ]
  },
  {
   "cell_type": "code",
   "execution_count": 54,
   "id": "18d4233f",
   "metadata": {},
   "outputs": [
    {
     "name": "stdout",
     "output_type": "stream",
     "text": [
      "Enter first number 5\n",
      "Enter first number 5\n",
      "<class 'str'>\n",
      "Not int\n"
     ]
    }
   ],
   "source": [
    "input1 = input(\"Enter first number \")\n",
    "input2 = input(\"Enter first number \")\n",
    "\n",
    "if \n",
    "if type(input1) is str and type(input2) is str:\n",
    "    print(\"Not int\")\n",
    "else:\n",
    "    print(input1 + input2)\n",
    "    "
   ]
  },
  {
   "cell_type": "code",
   "execution_count": 55,
   "id": "b09ff76c",
   "metadata": {},
   "outputs": [
    {
     "name": "stdout",
     "output_type": "stream",
     "text": [
      "Enter first number 6\n",
      "No\n"
     ]
    }
   ],
   "source": [
    "n = input(\"Enter first number \")\n",
    "\n",
    "if n == int(n):\n",
    "    print(\"yes\")\n",
    "else:\n",
    "    print(\"No\")"
   ]
  },
  {
   "cell_type": "code",
   "execution_count": 56,
   "id": "78e5f30f",
   "metadata": {},
   "outputs": [],
   "source": [
    "# - Take a string from user in case if we find out any character in \n",
    "# repetition "
   ]
  },
  {
   "cell_type": "code",
   "execution_count": 132,
   "id": "3edc206b",
   "metadata": {},
   "outputs": [
    {
     "name": "stdout",
     "output_type": "stream",
     "text": [
      "Enter the string hello\n",
      "helo\n"
     ]
    }
   ],
   "source": [
    "strin =  input(\"Enter the string \")\n",
    "a = []\n",
    "b = []\n",
    "prev = ''\n",
    "for x in strin:\n",
    "    if x == prev :\n",
    "        continue\n",
    "    else:\n",
    "        a.append(x)\n",
    "    \n",
    "\n",
    "    prev = x\n",
    "\n",
    "print(\"\".join(a))\n",
    "\n",
    "        "
   ]
  },
  {
   "cell_type": "code",
   "execution_count": 115,
   "id": "e08eb943",
   "metadata": {},
   "outputs": [
    {
     "name": "stdout",
     "output_type": "stream",
     "text": [
      "5\n"
     ]
    }
   ],
   "source": [
    "a = \"hello\"\n",
    "print(len(a))"
   ]
  },
  {
   "cell_type": "code",
   "execution_count": 89,
   "id": "48723db0",
   "metadata": {},
   "outputs": [
    {
     "data": {
      "text/plain": [
       "['h', 'e', 'l', 'l', 'o']"
      ]
     },
     "execution_count": 89,
     "metadata": {},
     "output_type": "execute_result"
    }
   ],
   "source": [
    "a"
   ]
  },
  {
   "cell_type": "code",
   "execution_count": 90,
   "id": "6d32a50b",
   "metadata": {},
   "outputs": [
    {
     "data": {
      "text/plain": [
       "'h'"
      ]
     },
     "execution_count": 90,
     "metadata": {},
     "output_type": "execute_result"
    }
   ],
   "source": [
    "a"
   ]
  },
  {
   "cell_type": "code",
   "execution_count": 105,
   "id": "c3af5d9d",
   "metadata": {},
   "outputs": [
    {
     "name": "stdout",
     "output_type": "stream",
     "text": [
      "Enter the string hello\n",
      "h 1\n",
      "e 1\n",
      "l 2\n",
      "o 1\n"
     ]
    }
   ],
   "source": [
    "strin =  input(\"Enter the string \")\n",
    "a=[]\n",
    "for x in strin:\n",
    "    count = 0 \n",
    "    for y in strin:\n",
    "        if x == y:\n",
    "            count +=1\n",
    "    if x not in a: \n",
    "        print(x, count)\n",
    "        a.append(x)"
   ]
  },
  {
   "cell_type": "code",
   "execution_count": 133,
   "id": "dd6f3893",
   "metadata": {},
   "outputs": [],
   "source": [
    "# Take an input from the user and validate the input based on "
   ]
  },
  {
   "cell_type": "code",
   "execution_count": 142,
   "id": "b7c621de",
   "metadata": {},
   "outputs": [
    {
     "name": "stdout",
     "output_type": "stream",
     "text": [
      "* * * * \n",
      "* * * * \n",
      "* * * * \n",
      "* * * * \n"
     ]
    }
   ],
   "source": [
    "for x in range(0,4):\n",
    "    for y in range(0,4):\n",
    "        if y<=x:\n",
    "            print(\"*\" ,end=\" \")\n",
    "    print(end=\"\\n\")"
   ]
  },
  {
   "cell_type": "code",
   "execution_count": 138,
   "id": "f56742f0",
   "metadata": {},
   "outputs": [
    {
     "name": "stdout",
     "output_type": "stream",
     "text": [
      "* * * * \n",
      "* * * \n",
      "* * \n",
      "* \n"
     ]
    }
   ],
   "source": [
    "for x in range(0,4):\n",
    "    for y in range(0,4):\n",
    "        if y>=x:\n",
    "            print(\"*\", end =\" \")\n",
    "\n",
    "            print(end = \"\\n\")"
   ]
  },
  {
   "cell_type": "code",
   "execution_count": 153,
   "id": "7b74c85c",
   "metadata": {},
   "outputs": [
    {
     "name": "stdout",
     "output_type": "stream",
     "text": [
      "A \n",
      "A B \n",
      "A B C \n",
      "A B C D \n"
     ]
    }
   ],
   "source": [
    "for x in range(0,4):\n",
    "    a = 'A'\n",
    "    for y in range(0,4):\n",
    "        if y<=x:\n",
    "            print(a ,end=\" \")\n",
    "            a = chr(ord(a)+1)\n",
    "    print(end=\"\\n\")"
   ]
  },
  {
   "cell_type": "code",
   "execution_count": 150,
   "id": "9d936aa2",
   "metadata": {},
   "outputs": [
    {
     "name": "stdout",
     "output_type": "stream",
     "text": [
      "A \n",
      "B C \n",
      "D E F \n",
      "G H I J \n"
     ]
    }
   ],
   "source": [
    "a = 'A'\n",
    "for x in range(0,4):\n",
    "    for y in range(0,4):\n",
    "        if y<=x:\n",
    "            print(a ,end=\" \")\n",
    "            a = chr(ord(a)+1)\n",
    "    print(end=\"\\n\")"
   ]
  },
  {
   "cell_type": "code",
   "execution_count": 155,
   "id": "a181312d",
   "metadata": {},
   "outputs": [
    {
     "name": "stdout",
     "output_type": "stream",
     "text": [
      "1 \n",
      "1 2 \n",
      "1 2 3 \n",
      "1 2 3 4 \n"
     ]
    }
   ],
   "source": [
    "for x in range(0,4):\n",
    "    a = 1\n",
    "    for y in range(0,4):\n",
    "        if y<=x:\n",
    "            print(a ,end=\" \")\n",
    "            a = a + 1\n",
    "    print(end=\"\\n\")"
   ]
  },
  {
   "cell_type": "code",
   "execution_count": 156,
   "id": "7946c155",
   "metadata": {},
   "outputs": [
    {
     "name": "stdout",
     "output_type": "stream",
     "text": [
      "1 \n",
      "2 3 \n",
      "4 5 6 \n",
      "7 8 9 10 \n"
     ]
    }
   ],
   "source": [
    "a = 1\n",
    "for x in range(0,4):\n",
    "    for y in range(0,4):\n",
    "        if y<=x:\n",
    "            print(a ,end=\" \")\n",
    "            a = a + 1\n",
    "    print(end=\"\\n\")"
   ]
  },
  {
   "cell_type": "code",
   "execution_count": 194,
   "id": "12718c25",
   "metadata": {},
   "outputs": [
    {
     "name": "stdout",
     "output_type": "stream",
     "text": [
      "        * \n",
      "      * * * \n",
      "    * * * * * \n",
      "  * * * * * * * \n",
      "* * * * * * * * * \n"
     ]
    }
   ],
   "source": [
    "n=6\n",
    "for x in  range(1, n):\n",
    "    for y in range(1,n-1):\n",
    "        print(\" \", end=\" \")\n",
    "    n = n-1\n",
    "    for j in range(0, ((2*x) - 1)):\n",
    "        print(\"*\", end =\" \")\n",
    "    print(end=\"\\n\")\n",
    "                 "
   ]
  },
  {
   "cell_type": "code",
   "execution_count": 206,
   "id": "4d18618a",
   "metadata": {},
   "outputs": [
    {
     "name": "stdout",
     "output_type": "stream",
     "text": [
      "* * * * * * * * * \n",
      "  * * * * * * * \n",
      "    * * * * * \n",
      "      * * * \n",
      "        * \n"
     ]
    }
   ],
   "source": [
    "n = 6\n",
    "z = n-1\n",
    "for x in  range(n-1,0,-1):\n",
    "    for y in range(1, n-z):\n",
    "        print(\" \", end=\" \")\n",
    "    n = n+1\n",
    "    for j in range(0, ((2*x) - 1)):\n",
    "        print(\"*\", end =\" \")\n",
    "    print(end=\"\\n\")\n",
    "                 "
   ]
  },
  {
   "cell_type": "code",
   "execution_count": 233,
   "id": "092c0c3a",
   "metadata": {},
   "outputs": [
    {
     "name": "stdout",
     "output_type": "stream",
     "text": [
      "* * * * * \n",
      "*       * \n",
      "*       * \n",
      "*       * \n",
      "* * * * * \n"
     ]
    }
   ],
   "source": [
    "n = 5 \n",
    "for x in range(1, n+1):\n",
    "    for y in range(1,n+1):\n",
    "        if x == 1 or x == n or y == 1 or y == n:\n",
    "            print(\"*\", end= \" \")\n",
    "        else:\n",
    "            print(end=\"  \")\n",
    "    print(end = \"\\n\")"
   ]
  },
  {
   "cell_type": "code",
   "execution_count": null,
   "id": "a338ca05",
   "metadata": {},
   "outputs": [],
   "source": [
    "for x in range(1,4):\n",
    "    for y in range()"
   ]
  },
  {
   "cell_type": "code",
   "execution_count": null,
   "id": "2a4bf5ca",
   "metadata": {},
   "outputs": [],
   "source": []
  },
  {
   "cell_type": "code",
   "execution_count": null,
   "id": "98c5ceed",
   "metadata": {},
   "outputs": [],
   "source": []
  },
  {
   "cell_type": "code",
   "execution_count": null,
   "id": "0b76199a",
   "metadata": {},
   "outputs": [],
   "source": []
  },
  {
   "cell_type": "code",
   "execution_count": null,
   "id": "9a8e2374",
   "metadata": {},
   "outputs": [],
   "source": []
  },
  {
   "cell_type": "code",
   "execution_count": null,
   "id": "9f6cf923",
   "metadata": {},
   "outputs": [],
   "source": []
  },
  {
   "cell_type": "code",
   "execution_count": null,
   "id": "1f1fea2b",
   "metadata": {},
   "outputs": [],
   "source": []
  },
  {
   "cell_type": "code",
   "execution_count": null,
   "id": "5d67e65f",
   "metadata": {},
   "outputs": [],
   "source": []
  },
  {
   "cell_type": "code",
   "execution_count": null,
   "id": "3cbca84d",
   "metadata": {},
   "outputs": [],
   "source": []
  },
  {
   "cell_type": "code",
   "execution_count": null,
   "id": "5e479f25",
   "metadata": {},
   "outputs": [],
   "source": []
  },
  {
   "cell_type": "code",
   "execution_count": null,
   "id": "9a815e50",
   "metadata": {},
   "outputs": [],
   "source": []
  },
  {
   "cell_type": "code",
   "execution_count": null,
   "id": "2b5257f2",
   "metadata": {},
   "outputs": [],
   "source": []
  },
  {
   "cell_type": "code",
   "execution_count": null,
   "id": "75e0d83d",
   "metadata": {},
   "outputs": [],
   "source": []
  },
  {
   "cell_type": "code",
   "execution_count": null,
   "id": "797d1154",
   "metadata": {},
   "outputs": [],
   "source": [
    "#  Q-   * * * * *\n",
    "#         * * *\n",
    "#           *"
   ]
  },
  {
   "cell_type": "code",
   "execution_count": null,
   "id": "4234180e",
   "metadata": {},
   "outputs": [],
   "source": [
    "# Q-     * * * *\n",
    "#        *     *\n",
    "#        *     *\n",
    "#        * * * *"
   ]
  },
  {
   "cell_type": "code",
   "execution_count": 234,
   "id": "2dd92e06",
   "metadata": {},
   "outputs": [],
   "source": [
    "# 1\n",
    "# 2 4\n",
    "# 3 6 9\n",
    "# 4 8 12 16"
   ]
  },
  {
   "cell_type": "markdown",
   "id": "d9bc95a0",
   "metadata": {},
   "source": [
    "# Q- Take a input from the user and check the data based on the condition\n",
    "- The data should be of string data type\n",
    "- The length of the input should lie in th range from 6 to 15 character in length\n",
    "- The input should have atleasr 1 capital letter (A to Z)\n",
    "- 1 small letter (A to J)\n",
    "- 1 Number (0 to 9)\n",
    "- 1 special character( #, @, $, %)\n",
    "\n",
    "In case any of the condition is not valid ask for the input from \n",
    "    the user upto 4 times othewise exit the program by putting mesasge input given is wrong"
   ]
  },
  {
   "cell_type": "code",
   "execution_count": 284,
   "id": "6abea8b8",
   "metadata": {},
   "outputs": [
    {
     "name": "stdout",
     "output_type": "stream",
     "text": [
      "Enter the password manu@1\n",
      "Try again \n",
      "Enter password again asdasddjo@1\n",
      "Try again \n",
      "Enter password again nifsdofij@9\n",
      "Try again \n",
      "Enter password again djsnfdw@\n",
      "Not Valid Exiting Now\n"
     ]
    }
   ],
   "source": [
    "def passcheck(password, count, trial):\n",
    "    if len(password) in range(6,16):\n",
    "        for x in password:\n",
    "            if ord(x) in range(65,91):\n",
    "                count.append(1)\n",
    "            elif ord(x) in range(97,123):\n",
    "                count.append(2)\n",
    "            elif ord(x) in range(48, 58):\n",
    "                count.append(3)\n",
    "            elif ord(x) in [32, 47, 58, 64, 91, 96, 123, 126]:\n",
    "                count.append(4)\n",
    "        if [1,2,3,4] == list(set(count)):\n",
    "            print(\"Password satisfied\")\n",
    "        elif trial == 3:\n",
    "            print(\"Not Valid Exiting Now\")\n",
    "        else:\n",
    "            print(\"Try again \")\n",
    "            n = input(\"Enter password again \")\n",
    "            trial = trial+1\n",
    "            passcheck(n, count, trial)\n",
    "    elif trial == 3:\n",
    "            print(\"Not Valid Exiting Now\")\n",
    "    else:\n",
    "        print(\"Try again \")\n",
    "        n = input(\"Enter password again \")\n",
    "        trial = trial+1\n",
    "        passcheck(n, count, trial)\n",
    "\n",
    "password = input(\"Enter the password \")\n",
    "passcheck(password, [],0)"
   ]
  },
  {
   "cell_type": "code",
   "execution_count": null,
   "id": "8d2537dd",
   "metadata": {},
   "outputs": [],
   "source": [
    "\n"
   ]
  },
  {
   "cell_type": "code",
   "execution_count": null,
   "id": "df563c66",
   "metadata": {},
   "outputs": [],
   "source": []
  },
  {
   "cell_type": "code",
   "execution_count": null,
   "id": "3a44fa6f",
   "metadata": {},
   "outputs": [],
   "source": []
  },
  {
   "cell_type": "code",
   "execution_count": null,
   "id": "f4c53d3f",
   "metadata": {},
   "outputs": [],
   "source": []
  },
  {
   "cell_type": "code",
   "execution_count": null,
   "id": "70a25261",
   "metadata": {},
   "outputs": [],
   "source": []
  },
  {
   "cell_type": "code",
   "execution_count": null,
   "id": "8208ede4",
   "metadata": {},
   "outputs": [],
   "source": []
  },
  {
   "cell_type": "code",
   "execution_count": null,
   "id": "daada173",
   "metadata": {},
   "outputs": [],
   "source": [
    "create a alist  multiple element of diff type in case if the element is of str \n",
    "data type then try to delete the element from list \n",
    "otherwise create the square of the numbewr and update in the list"
   ]
  },
  {
   "cell_type": "code",
   "execution_count": 256,
   "id": "edee9a15",
   "metadata": {},
   "outputs": [
    {
     "data": {
      "text/plain": [
       "[1, 9, 25, 64]"
      ]
     },
     "execution_count": 256,
     "metadata": {},
     "output_type": "execute_result"
    }
   ],
   "source": [
    "m = [1,3,5,8,'t','j']\n",
    "x = []\n",
    "for i in range(0,len(m)):\n",
    "    if type(m[i]) == str:\n",
    "        pass\n",
    "    else:\n",
    "        x.append(m[i])\n",
    "x = [i**2 for i in x]\n",
    "x"
   ]
  },
  {
   "cell_type": "code",
   "execution_count": 243,
   "id": "38907843",
   "metadata": {},
   "outputs": [
    {
     "data": {
      "text/plain": [
       "[1, 9, 25, 64, 'j']"
      ]
     },
     "execution_count": 243,
     "metadata": {},
     "output_type": "execute_result"
    }
   ],
   "source": [
    "m"
   ]
  },
  {
   "cell_type": "code",
   "execution_count": null,
   "id": "d3066b34",
   "metadata": {},
   "outputs": [],
   "source": [
    "mytuple = 10,\"A\"\n"
   ]
  },
  {
   "cell_type": "markdown",
   "id": "10b10244",
   "metadata": {},
   "source": [
    "# Q - why we are able to create empty tuple?\n"
   ]
  },
  {
   "cell_type": "markdown",
   "id": "b8cadcde",
   "metadata": {},
   "source": [
    "# Q - find out diff between tuple and list?\n",
    "\n",
    "# Q - find out diff between tuple and list"
   ]
  },
  {
   "cell_type": "markdown",
   "id": "4926751a",
   "metadata": {},
   "source": [
    "# Q- Assignment - How to launch an ec2 instance with python\n",
    "###    (boto3 library)\n",
    "###    - error in ami"
   ]
  },
  {
   "cell_type": "code",
   "execution_count": 301,
   "id": "f15cdc7f",
   "metadata": {},
   "outputs": [],
   "source": [
    "d = {'a':1,'b':2}"
   ]
  },
  {
   "cell_type": "code",
   "execution_count": 306,
   "id": "f29cccb0",
   "metadata": {},
   "outputs": [
    {
     "data": {
      "text/plain": [
       "{'a': None}"
      ]
     },
     "execution_count": 306,
     "metadata": {},
     "output_type": "execute_result"
    }
   ],
   "source": [
    "d.fromkeys('a')"
   ]
  },
  {
   "cell_type": "markdown",
   "id": "2e261822",
   "metadata": {},
   "source": [
    "# Q-   Difference between zip and enumerate method?"
   ]
  },
  {
   "cell_type": "code",
   "execution_count": 311,
   "id": "ec36601b",
   "metadata": {},
   "outputs": [
    {
     "name": "stdout",
     "output_type": "stream",
     "text": [
      "Help on class zip in module builtins:\n",
      "\n",
      "class zip(object)\n",
      " |  zip(*iterables) --> A zip object yielding tuples until an input is exhausted.\n",
      " |  \n",
      " |     >>> list(zip('abcdefg', range(3), range(4)))\n",
      " |     [('a', 0, 0), ('b', 1, 1), ('c', 2, 2)]\n",
      " |  \n",
      " |  The zip object yields n-length tuples, where n is the number of iterables\n",
      " |  passed as positional arguments to zip().  The i-th element in every tuple\n",
      " |  comes from the i-th iterable argument to zip().  This continues until the\n",
      " |  shortest argument is exhausted.\n",
      " |  \n",
      " |  Methods defined here:\n",
      " |  \n",
      " |  __getattribute__(self, name, /)\n",
      " |      Return getattr(self, name).\n",
      " |  \n",
      " |  __iter__(self, /)\n",
      " |      Implement iter(self).\n",
      " |  \n",
      " |  __next__(self, /)\n",
      " |      Implement next(self).\n",
      " |  \n",
      " |  __reduce__(...)\n",
      " |      Return state information for pickling.\n",
      " |  \n",
      " |  ----------------------------------------------------------------------\n",
      " |  Static methods defined here:\n",
      " |  \n",
      " |  __new__(*args, **kwargs) from builtins.type\n",
      " |      Create and return a new object.  See help(type) for accurate signature.\n",
      "\n"
     ]
    }
   ],
   "source": [
    "help(zip)\n"
   ]
  },
  {
   "cell_type": "code",
   "execution_count": 312,
   "id": "a94ff1b3",
   "metadata": {},
   "outputs": [],
   "source": [
    "t = (10,20,(10,3))"
   ]
  },
  {
   "cell_type": "code",
   "execution_count": null,
   "id": "4ae446c9",
   "metadata": {},
   "outputs": [],
   "source": [
    "# Q - perform union , difference, isdisjoint, symetric_difference_update, issupersubset"
   ]
  },
  {
   "cell_type": "code",
   "execution_count": 313,
   "id": "dd1515c8",
   "metadata": {},
   "outputs": [
    {
     "name": "stdout",
     "output_type": "stream",
     "text": [
      "Help on class set in module builtins:\n",
      "\n",
      "class set(object)\n",
      " |  set() -> new empty set object\n",
      " |  set(iterable) -> new set object\n",
      " |  \n",
      " |  Build an unordered collection of unique elements.\n",
      " |  \n",
      " |  Methods defined here:\n",
      " |  \n",
      " |  __and__(self, value, /)\n",
      " |      Return self&value.\n",
      " |  \n",
      " |  __contains__(...)\n",
      " |      x.__contains__(y) <==> y in x.\n",
      " |  \n",
      " |  __eq__(self, value, /)\n",
      " |      Return self==value.\n",
      " |  \n",
      " |  __ge__(self, value, /)\n",
      " |      Return self>=value.\n",
      " |  \n",
      " |  __getattribute__(self, name, /)\n",
      " |      Return getattr(self, name).\n",
      " |  \n",
      " |  __gt__(self, value, /)\n",
      " |      Return self>value.\n",
      " |  \n",
      " |  __iand__(self, value, /)\n",
      " |      Return self&=value.\n",
      " |  \n",
      " |  __init__(self, /, *args, **kwargs)\n",
      " |      Initialize self.  See help(type(self)) for accurate signature.\n",
      " |  \n",
      " |  __ior__(self, value, /)\n",
      " |      Return self|=value.\n",
      " |  \n",
      " |  __isub__(self, value, /)\n",
      " |      Return self-=value.\n",
      " |  \n",
      " |  __iter__(self, /)\n",
      " |      Implement iter(self).\n",
      " |  \n",
      " |  __ixor__(self, value, /)\n",
      " |      Return self^=value.\n",
      " |  \n",
      " |  __le__(self, value, /)\n",
      " |      Return self<=value.\n",
      " |  \n",
      " |  __len__(self, /)\n",
      " |      Return len(self).\n",
      " |  \n",
      " |  __lt__(self, value, /)\n",
      " |      Return self<value.\n",
      " |  \n",
      " |  __ne__(self, value, /)\n",
      " |      Return self!=value.\n",
      " |  \n",
      " |  __or__(self, value, /)\n",
      " |      Return self|value.\n",
      " |  \n",
      " |  __rand__(self, value, /)\n",
      " |      Return value&self.\n",
      " |  \n",
      " |  __reduce__(...)\n",
      " |      Return state information for pickling.\n",
      " |  \n",
      " |  __repr__(self, /)\n",
      " |      Return repr(self).\n",
      " |  \n",
      " |  __ror__(self, value, /)\n",
      " |      Return value|self.\n",
      " |  \n",
      " |  __rsub__(self, value, /)\n",
      " |      Return value-self.\n",
      " |  \n",
      " |  __rxor__(self, value, /)\n",
      " |      Return value^self.\n",
      " |  \n",
      " |  __sizeof__(...)\n",
      " |      S.__sizeof__() -> size of S in memory, in bytes\n",
      " |  \n",
      " |  __sub__(self, value, /)\n",
      " |      Return self-value.\n",
      " |  \n",
      " |  __xor__(self, value, /)\n",
      " |      Return self^value.\n",
      " |  \n",
      " |  add(...)\n",
      " |      Add an element to a set.\n",
      " |      \n",
      " |      This has no effect if the element is already present.\n",
      " |  \n",
      " |  clear(...)\n",
      " |      Remove all elements from this set.\n",
      " |  \n",
      " |  copy(...)\n",
      " |      Return a shallow copy of a set.\n",
      " |  \n",
      " |  difference(...)\n",
      " |      Return the difference of two or more sets as a new set.\n",
      " |      \n",
      " |      (i.e. all elements that are in this set but not the others.)\n",
      " |  \n",
      " |  difference_update(...)\n",
      " |      Remove all elements of another set from this set.\n",
      " |  \n",
      " |  discard(...)\n",
      " |      Remove an element from a set if it is a member.\n",
      " |      \n",
      " |      If the element is not a member, do nothing.\n",
      " |  \n",
      " |  intersection(...)\n",
      " |      Return the intersection of two sets as a new set.\n",
      " |      \n",
      " |      (i.e. all elements that are in both sets.)\n",
      " |  \n",
      " |  intersection_update(...)\n",
      " |      Update a set with the intersection of itself and another.\n",
      " |  \n",
      " |  isdisjoint(...)\n",
      " |      Return True if two sets have a null intersection.\n",
      " |  \n",
      " |  issubset(...)\n",
      " |      Report whether another set contains this set.\n",
      " |  \n",
      " |  issuperset(...)\n",
      " |      Report whether this set contains another set.\n",
      " |  \n",
      " |  pop(...)\n",
      " |      Remove and return an arbitrary set element.\n",
      " |      Raises KeyError if the set is empty.\n",
      " |  \n",
      " |  remove(...)\n",
      " |      Remove an element from a set; it must be a member.\n",
      " |      \n",
      " |      If the element is not a member, raise a KeyError.\n",
      " |  \n",
      " |  symmetric_difference(...)\n",
      " |      Return the symmetric difference of two sets as a new set.\n",
      " |      \n",
      " |      (i.e. all elements that are in exactly one of the sets.)\n",
      " |  \n",
      " |  symmetric_difference_update(...)\n",
      " |      Update a set with the symmetric difference of itself and another.\n",
      " |  \n",
      " |  union(...)\n",
      " |      Return the union of sets as a new set.\n",
      " |      \n",
      " |      (i.e. all elements that are in either set.)\n",
      " |  \n",
      " |  update(...)\n",
      " |      Update a set with the union of itself and others.\n",
      " |  \n",
      " |  ----------------------------------------------------------------------\n",
      " |  Class methods defined here:\n",
      " |  \n",
      " |  __class_getitem__(...) from builtins.type\n",
      " |      See PEP 585\n",
      " |  \n",
      " |  ----------------------------------------------------------------------\n",
      " |  Static methods defined here:\n",
      " |  \n",
      " |  __new__(*args, **kwargs) from builtins.type\n",
      " |      Create and return a new object.  See help(type) for accurate signature.\n",
      " |  \n",
      " |  ----------------------------------------------------------------------\n",
      " |  Data and other attributes defined here:\n",
      " |  \n",
      " |  __hash__ = None\n",
      "\n"
     ]
    }
   ],
   "source": [
    "help(set)"
   ]
  },
  {
   "cell_type": "code",
   "execution_count": 348,
   "id": "8344eb69",
   "metadata": {},
   "outputs": [],
   "source": [
    "set1 = set({4,3})\n",
    "set2 = set({3,4,5,6})\n"
   ]
  },
  {
   "cell_type": "code",
   "execution_count": 315,
   "id": "ef8c9c56",
   "metadata": {},
   "outputs": [
    {
     "data": {
      "text/plain": [
       "{1, 2, 3, 4, 5, 6}"
      ]
     },
     "execution_count": 315,
     "metadata": {},
     "output_type": "execute_result"
    }
   ],
   "source": [
    "set1.union(set2)"
   ]
  },
  {
   "cell_type": "code",
   "execution_count": 323,
   "id": "d620d1f6",
   "metadata": {},
   "outputs": [
    {
     "data": {
      "text/plain": [
       "{1, 2}"
      ]
     },
     "execution_count": 323,
     "metadata": {},
     "output_type": "execute_result"
    }
   ],
   "source": [
    "set1.difference(set2)"
   ]
  },
  {
   "cell_type": "code",
   "execution_count": 320,
   "id": "fe0a14ac",
   "metadata": {},
   "outputs": [
    {
     "data": {
      "text/plain": [
       "True"
      ]
     },
     "execution_count": 320,
     "metadata": {},
     "output_type": "execute_result"
    }
   ],
   "source": [
    "set1.isdisjoint(set2)"
   ]
  },
  {
   "cell_type": "code",
   "execution_count": 345,
   "id": "23c7b485",
   "metadata": {},
   "outputs": [
    {
     "name": "stdout",
     "output_type": "stream",
     "text": [
      "{1, 2, 4, 5, 6}\n"
     ]
    }
   ],
   "source": [
    "set1.symmetric_difference_update(set2)\n",
    "print(set1)"
   ]
  },
  {
   "cell_type": "code",
   "execution_count": 350,
   "id": "5422cfb2",
   "metadata": {},
   "outputs": [
    {
     "data": {
      "text/plain": [
       "True"
      ]
     },
     "execution_count": 350,
     "metadata": {},
     "output_type": "execute_result"
    }
   ],
   "source": [
    "set1.issubset(set2)"
   ]
  },
  {
   "cell_type": "code",
   "execution_count": null,
   "id": "33a55c59",
   "metadata": {},
   "outputs": [],
   "source": [
    "# Q- Take an input string from user and return all the unique words from the string\n",
    "    Input  = \"hey user hey tushar hope you are doing well. hey you\"\n",
    "    Output = \"hey user tushar hope you are well.\"\n"
   ]
  },
  {
   "cell_type": "code",
   "execution_count": 364,
   "id": "4c5e41c4",
   "metadata": {},
   "outputs": [],
   "source": [
    "Input  = \"hey user hey tushar hope you are doing well. hey you\""
   ]
  },
  {
   "cell_type": "code",
   "execution_count": 365,
   "id": "2cf53af5",
   "metadata": {},
   "outputs": [],
   "source": [
    "Input =Input.split(\" \")"
   ]
  },
  {
   "cell_type": "code",
   "execution_count": 367,
   "id": "fdd36231",
   "metadata": {},
   "outputs": [],
   "source": [
    "setInput = set(Input)\n"
   ]
  },
  {
   "cell_type": "code",
   "execution_count": 371,
   "id": "66de30c2",
   "metadata": {},
   "outputs": [
    {
     "data": {
      "text/plain": [
       "'well. hope user you tushar hey doing are'"
      ]
     },
     "execution_count": 371,
     "metadata": {},
     "output_type": "execute_result"
    }
   ],
   "source": [
    "(\" \").join(x for x in list(setInput))"
   ]
  },
  {
   "cell_type": "markdown",
   "id": "1e7960f9",
   "metadata": {},
   "source": [
    "# Q-  In the string find out how many vowels are present with its count"
   ]
  },
  {
   "cell_type": "code",
   "execution_count": 377,
   "id": "da2e59e8",
   "metadata": {},
   "outputs": [
    {
     "data": {
      "text/plain": [
       "{'u': 2, 'e': 2}"
      ]
     },
     "execution_count": 377,
     "metadata": {},
     "output_type": "execute_result"
    }
   ],
   "source": [
    "n = 'Futurense'\n",
    "n = list(n)\n",
    "dict1 = {}\n",
    "for x in n:\n",
    "    if x in ['a','e','i','o','u']:\n",
    "        dict1[x] = n.count(x)\n",
    "dict1"
   ]
  },
  {
   "cell_type": "code",
   "execution_count": null,
   "id": "ca4f4ed4",
   "metadata": {},
   "outputs": [],
   "source": [
    "# Q- Take a input from the user and check for the smallest / least occurance of the character and show in the final \n",
    " output with its occurance in case there is a tie any of the count of first character appearance"
   ]
  },
  {
   "cell_type": "code",
   "execution_count": 385,
   "id": "0e97427c",
   "metadata": {},
   "outputs": [
    {
     "name": "stdout",
     "output_type": "stream",
     "text": [
      "u 2\n"
     ]
    }
   ],
   "source": [
    "n = 'Futurense'\n",
    "n = list(n)\n",
    "dict1 = {}\n",
    "for x in n:\n",
    "    if x in ['a','e','i','o','u']:\n",
    "        dict1[x] = n.count(x)\n",
    "#print(min(dict1.values()))\n",
    "for key, value in dict1.items():\n",
    "    if value == min(dict1.values()):\n",
    "        print(key, value)\n",
    "        break"
   ]
  },
  {
   "cell_type": "code",
   "execution_count": 428,
   "id": "39424adb",
   "metadata": {},
   "outputs": [
    {
     "name": "stdout",
     "output_type": "stream",
     "text": [
      "Enter first queen coordinate in 4 by 4 chess 1,1\n",
      "Enter second queen coordinate in 4 by 4 chess 2,1\n"
     ]
    }
   ],
   "source": [
    "Q1 = input(\"Enter first queen coordinate in 4 by 4 chess \")\n",
    "Q2 = input(\"Enter second queen coordinate in 4 by 4 chess \")"
   ]
  },
  {
   "cell_type": "code",
   "execution_count": 429,
   "id": "1316ea26",
   "metadata": {},
   "outputs": [],
   "source": [
    "x1, y1 = Q1.split(\",\")\n",
    "x2, y2 = Q2.split(\",\")"
   ]
  },
  {
   "cell_type": "code",
   "execution_count": 436,
   "id": "e1a7df1f",
   "metadata": {},
   "outputs": [],
   "source": [
    "def queencheck(x1,y1,x2,y2):\n",
    "    if int(x1) == int(x2) or int(y1) == int(y2):\n",
    "        print(\"Kill\")\n",
    "    elif int(x1)-int(x2) == int(y2)-int(y1) :\n",
    "        print(\"Kill\")\n",
    "    elif int(x1) == int(y1) and int(x2) == int(y2):\n",
    "        print(\"Kill\")\n",
    "    else:\n",
    "        print(\"Safe\")\n",
    "    "
   ]
  },
  {
   "cell_type": "code",
   "execution_count": 440,
   "id": "744b60ea",
   "metadata": {},
   "outputs": [
    {
     "name": "stdout",
     "output_type": "stream",
     "text": [
      "Kill\n"
     ]
    }
   ],
   "source": [
    "queencheck(1,1,3,1)"
   ]
  },
  {
   "cell_type": "code",
   "execution_count": null,
   "id": "e5ff1b8c",
   "metadata": {},
   "outputs": [],
   "source": []
  },
  {
   "cell_type": "code",
   "execution_count": null,
   "id": "1830ae7b",
   "metadata": {},
   "outputs": [],
   "source": []
  },
  {
   "cell_type": "code",
   "execution_count": null,
   "id": "41209d0d",
   "metadata": {},
   "outputs": [],
   "source": []
  },
  {
   "cell_type": "code",
   "execution_count": null,
   "id": "85c3e409",
   "metadata": {},
   "outputs": [],
   "source": []
  },
  {
   "cell_type": "code",
   "execution_count": null,
   "id": "ce38de87",
   "metadata": {},
   "outputs": [],
   "source": []
  },
  {
   "cell_type": "code",
   "execution_count": null,
   "id": "721ab942",
   "metadata": {},
   "outputs": [],
   "source": []
  },
  {
   "cell_type": "code",
   "execution_count": null,
   "id": "15229b0b",
   "metadata": {},
   "outputs": [],
   "source": []
  },
  {
   "cell_type": "code",
   "execution_count": null,
   "id": "efdcdc7d",
   "metadata": {},
   "outputs": [],
   "source": []
  },
  {
   "cell_type": "code",
   "execution_count": null,
   "id": "3310862c",
   "metadata": {},
   "outputs": [],
   "source": []
  },
  {
   "cell_type": "code",
   "execution_count": null,
   "id": "eef7743d",
   "metadata": {},
   "outputs": [],
   "source": []
  },
  {
   "cell_type": "code",
   "execution_count": null,
   "id": "c925c407",
   "metadata": {},
   "outputs": [],
   "source": []
  },
  {
   "cell_type": "code",
   "execution_count": null,
   "id": "65dd47d9",
   "metadata": {},
   "outputs": [],
   "source": []
  },
  {
   "cell_type": "markdown",
   "id": "f18b2053",
   "metadata": {},
   "source": [
    "## Q- Check the input string provided by the user, in case the string provided is \n",
    "## starting with the vowel we add on ing in the last  otherwise we add on esy in the end of the string?"
   ]
  },
  {
   "cell_type": "code",
   "execution_count": 412,
   "id": "e65bbb27",
   "metadata": {},
   "outputs": [],
   "source": [
    "\n",
    "n = 'easter'"
   ]
  },
  {
   "cell_type": "code",
   "execution_count": 413,
   "id": "b865d18d",
   "metadata": {},
   "outputs": [
    {
     "name": "stdout",
     "output_type": "stream",
     "text": [
      "eastering\n"
     ]
    }
   ],
   "source": [
    "if n[0] in ['a','e','i','o','u']:\n",
    "    n = n + 'ing'\n",
    "else:\n",
    "    n = n + 'esy'\n",
    "print(n)"
   ]
  },
  {
   "cell_type": "code",
   "execution_count": null,
   "id": "d3669686",
   "metadata": {},
   "outputs": [],
   "source": [
    "topics for tomorrow\n",
    " -  functional programming\n",
    " -  Parameter vs Argumen"
   ]
  },
  {
   "cell_type": "code",
   "execution_count": null,
   "id": "92d561a3",
   "metadata": {},
   "outputs": [],
   "source": []
  },
  {
   "cell_type": "code",
   "execution_count": null,
   "id": "4249e600",
   "metadata": {},
   "outputs": [],
   "source": []
  },
  {
   "cell_type": "code",
   "execution_count": 414,
   "id": "90d5424d",
   "metadata": {},
   "outputs": [],
   "source": [
    "mylist = [(1,2),(2,3),(3,4)]\n",
    "d = dict(mylist)"
   ]
  },
  {
   "cell_type": "code",
   "execution_count": 415,
   "id": "7ef791c0",
   "metadata": {},
   "outputs": [
    {
     "data": {
      "text/plain": [
       "{1: 2, 2: 3, 3: 4}"
      ]
     },
     "execution_count": 415,
     "metadata": {},
     "output_type": "execute_result"
    }
   ],
   "source": [
    "d"
   ]
  },
  {
   "cell_type": "code",
   "execution_count": 420,
   "id": "8bcd2313",
   "metadata": {},
   "outputs": [],
   "source": [
    "set1 = {10,20,30,40, (10,20), \"sth\"}\n"
   ]
  },
  {
   "cell_type": "code",
   "execution_count": 421,
   "id": "873ddbc1",
   "metadata": {},
   "outputs": [
    {
     "name": "stdout",
     "output_type": "stream",
     "text": [
      "20\n",
      "sth\n",
      "40\n",
      "10\n",
      "30\n",
      "(10, 20)\n"
     ]
    }
   ],
   "source": [
    "for x in set1:\n",
    "    "
   ]
  },
  {
   "cell_type": "markdown",
   "id": "15123456",
   "metadata": {},
   "source": [
    "### Find the second largest element in a list in an optimal way."
   ]
  },
  {
   "cell_type": "code",
   "execution_count": 481,
   "id": "6af055b6",
   "metadata": {},
   "outputs": [],
   "source": [
    "l = [1,2,3,5,67,8,76,68,94,57]"
   ]
  },
  {
   "cell_type": "code",
   "execution_count": 471,
   "id": "bdd68724",
   "metadata": {},
   "outputs": [],
   "source": [
    "l.remove(max(l))"
   ]
  },
  {
   "cell_type": "code",
   "execution_count": 472,
   "id": "ee6e7334",
   "metadata": {},
   "outputs": [
    {
     "data": {
      "text/plain": [
       "76"
      ]
     },
     "execution_count": 472,
     "metadata": {},
     "output_type": "execute_result"
    }
   ],
   "source": [
    "max(l)"
   ]
  },
  {
   "cell_type": "code",
   "execution_count": 482,
   "id": "f268b5e3",
   "metadata": {},
   "outputs": [
    {
     "data": {
      "text/plain": [
       "76"
      ]
     },
     "execution_count": 482,
     "metadata": {},
     "output_type": "execute_result"
    }
   ],
   "source": [
    "max([x for x in l if x < max(l)])"
   ]
  },
  {
   "cell_type": "code",
   "execution_count": 483,
   "id": "376000f5",
   "metadata": {},
   "outputs": [],
   "source": [
    "import pandas as pd\n",
    "df =  pd.read_csv('sales.csv')"
   ]
  },
  {
   "cell_type": "code",
   "execution_count": 484,
   "id": "5109015a",
   "metadata": {},
   "outputs": [
    {
     "data": {
      "text/html": [
       "<div>\n",
       "<style scoped>\n",
       "    .dataframe tbody tr th:only-of-type {\n",
       "        vertical-align: middle;\n",
       "    }\n",
       "\n",
       "    .dataframe tbody tr th {\n",
       "        vertical-align: top;\n",
       "    }\n",
       "\n",
       "    .dataframe thead th {\n",
       "        text-align: right;\n",
       "    }\n",
       "</style>\n",
       "<table border=\"1\" class=\"dataframe\">\n",
       "  <thead>\n",
       "    <tr style=\"text-align: right;\">\n",
       "      <th></th>\n",
       "      <th>sales</th>\n",
       "      <th>c_id</th>\n",
       "      <th>p_id</th>\n",
       "      <th>product</th>\n",
       "      <th>qty</th>\n",
       "      <th>store</th>\n",
       "    </tr>\n",
       "  </thead>\n",
       "  <tbody>\n",
       "    <tr>\n",
       "      <th>0</th>\n",
       "      <td>24222</td>\n",
       "      <td>2</td>\n",
       "      <td>3</td>\n",
       "      <td>Monitor</td>\n",
       "      <td>2</td>\n",
       "      <td>ABC</td>\n",
       "    </tr>\n",
       "    <tr>\n",
       "      <th>1</th>\n",
       "      <td>3243</td>\n",
       "      <td>2</td>\n",
       "      <td>4</td>\n",
       "      <td>CPU</td>\n",
       "      <td>1</td>\n",
       "      <td>DEF</td>\n",
       "    </tr>\n",
       "    <tr>\n",
       "      <th>2</th>\n",
       "      <td>5634</td>\n",
       "      <td>1</td>\n",
       "      <td>3</td>\n",
       "      <td>Monitor</td>\n",
       "      <td>3</td>\n",
       "      <td>ABC</td>\n",
       "    </tr>\n",
       "    <tr>\n",
       "      <th>3</th>\n",
       "      <td>43234</td>\n",
       "      <td>4</td>\n",
       "      <td>2</td>\n",
       "      <td>RAM</td>\n",
       "      <td>2</td>\n",
       "      <td>DEF</td>\n",
       "    </tr>\n",
       "    <tr>\n",
       "      <th>4</th>\n",
       "      <td>2342</td>\n",
       "      <td>2</td>\n",
       "      <td>3</td>\n",
       "      <td>Monitor</td>\n",
       "      <td>3</td>\n",
       "      <td>ABC</td>\n",
       "    </tr>\n",
       "  </tbody>\n",
       "</table>\n",
       "</div>"
      ],
      "text/plain": [
       "   sales  c_id  p_id  product  qty store\n",
       "0  24222     2     3  Monitor    2   ABC\n",
       "1   3243     2     4      CPU    1   DEF\n",
       "2   5634     1     3  Monitor    3   ABC\n",
       "3  43234     4     2      RAM    2   DEF\n",
       "4   2342     2     3  Monitor    3   ABC"
      ]
     },
     "execution_count": 484,
     "metadata": {},
     "output_type": "execute_result"
    }
   ],
   "source": [
    "df.head()"
   ]
  },
  {
   "cell_type": "code",
   "execution_count": 490,
   "id": "d589e2b7",
   "metadata": {},
   "outputs": [
    {
     "data": {
      "text/html": [
       "<div>\n",
       "<style scoped>\n",
       "    .dataframe tbody tr th:only-of-type {\n",
       "        vertical-align: middle;\n",
       "    }\n",
       "\n",
       "    .dataframe tbody tr th {\n",
       "        vertical-align: top;\n",
       "    }\n",
       "\n",
       "    .dataframe thead th {\n",
       "        text-align: right;\n",
       "    }\n",
       "</style>\n",
       "<table border=\"1\" class=\"dataframe\">\n",
       "  <thead>\n",
       "    <tr style=\"text-align: right;\">\n",
       "      <th></th>\n",
       "      <th>sales</th>\n",
       "      <th>p_id</th>\n",
       "      <th>qty</th>\n",
       "    </tr>\n",
       "    <tr>\n",
       "      <th>c_id</th>\n",
       "      <th></th>\n",
       "      <th></th>\n",
       "      <th></th>\n",
       "    </tr>\n",
       "  </thead>\n",
       "  <tbody>\n",
       "    <tr>\n",
       "      <th>2</th>\n",
       "      <td>7281.6</td>\n",
       "      <td>3.0</td>\n",
       "      <td>2.2</td>\n",
       "    </tr>\n",
       "    <tr>\n",
       "      <th>1</th>\n",
       "      <td>5634.0</td>\n",
       "      <td>3.0</td>\n",
       "      <td>3.0</td>\n",
       "    </tr>\n",
       "    <tr>\n",
       "      <th>4</th>\n",
       "      <td>43234.0</td>\n",
       "      <td>2.0</td>\n",
       "      <td>2.0</td>\n",
       "    </tr>\n",
       "    <tr>\n",
       "      <th>3</th>\n",
       "      <td>11888.0</td>\n",
       "      <td>2.5</td>\n",
       "      <td>2.0</td>\n",
       "    </tr>\n",
       "  </tbody>\n",
       "</table>\n",
       "</div>"
      ],
      "text/plain": [
       "        sales  p_id  qty\n",
       "c_id                    \n",
       "2      7281.6   3.0  2.2\n",
       "1      5634.0   3.0  3.0\n",
       "4     43234.0   2.0  2.0\n",
       "3     11888.0   2.5  2.0"
      ]
     },
     "execution_count": 490,
     "metadata": {},
     "output_type": "execute_result"
    }
   ],
   "source": [
    "df.groupby(pd.Grouper(key= 'c_id')).mean()"
   ]
  },
  {
   "cell_type": "code",
   "execution_count": 494,
   "id": "9e6ed0b7",
   "metadata": {},
   "outputs": [
    {
     "data": {
      "text/html": [
       "<div>\n",
       "<style scoped>\n",
       "    .dataframe tbody tr th:only-of-type {\n",
       "        vertical-align: middle;\n",
       "    }\n",
       "\n",
       "    .dataframe tbody tr th {\n",
       "        vertical-align: top;\n",
       "    }\n",
       "\n",
       "    .dataframe thead th {\n",
       "        text-align: right;\n",
       "    }\n",
       "</style>\n",
       "<table border=\"1\" class=\"dataframe\">\n",
       "  <thead>\n",
       "    <tr style=\"text-align: right;\">\n",
       "      <th></th>\n",
       "      <th>sales</th>\n",
       "      <th>p_id</th>\n",
       "      <th>qty</th>\n",
       "    </tr>\n",
       "    <tr>\n",
       "      <th>c_id</th>\n",
       "      <th></th>\n",
       "      <th></th>\n",
       "      <th></th>\n",
       "    </tr>\n",
       "  </thead>\n",
       "  <tbody>\n",
       "    <tr>\n",
       "      <th>1</th>\n",
       "      <td>5634.0</td>\n",
       "      <td>3.0</td>\n",
       "      <td>3.0</td>\n",
       "    </tr>\n",
       "    <tr>\n",
       "      <th>2</th>\n",
       "      <td>7281.6</td>\n",
       "      <td>3.0</td>\n",
       "      <td>2.2</td>\n",
       "    </tr>\n",
       "    <tr>\n",
       "      <th>3</th>\n",
       "      <td>11888.0</td>\n",
       "      <td>2.5</td>\n",
       "      <td>2.0</td>\n",
       "    </tr>\n",
       "    <tr>\n",
       "      <th>4</th>\n",
       "      <td>43234.0</td>\n",
       "      <td>2.0</td>\n",
       "      <td>2.0</td>\n",
       "    </tr>\n",
       "  </tbody>\n",
       "</table>\n",
       "</div>"
      ],
      "text/plain": [
       "        sales  p_id  qty\n",
       "c_id                    \n",
       "1      5634.0   3.0  3.0\n",
       "2      7281.6   3.0  2.2\n",
       "3     11888.0   2.5  2.0\n",
       "4     43234.0   2.0  2.0"
      ]
     },
     "execution_count": 494,
     "metadata": {},
     "output_type": "execute_result"
    }
   ],
   "source": [
    "df.groupby(by='c_id').mean()"
   ]
  },
  {
   "cell_type": "code",
   "execution_count": 506,
   "id": "ff2bcf1b",
   "metadata": {},
   "outputs": [
    {
     "name": "stdout",
     "output_type": "stream",
     "text": [
      "41\n"
     ]
    }
   ],
   "source": [
    "\n",
    "count = 0\n",
    "for x in range(1,10):\n",
    "    for y in range(1,10):\n",
    "        if (x + y)%2 ==0:\n",
    "            count = count+1\n",
    "print(count)"
   ]
  },
  {
   "cell_type": "code",
   "execution_count": 499,
   "id": "beeb0124",
   "metadata": {},
   "outputs": [],
   "source": [
    "b = 2\n",
    "c = 3\n",
    "d = str(2) + str(3)"
   ]
  },
  {
   "cell_type": "code",
   "execution_count": 501,
   "id": "66c25b06",
   "metadata": {},
   "outputs": [
    {
     "data": {
      "text/plain": [
       "23"
      ]
     },
     "execution_count": 501,
     "metadata": {},
     "output_type": "execute_result"
    }
   ],
   "source": [
    "int(d)"
   ]
  },
  {
   "cell_type": "code",
   "execution_count": 525,
   "id": "56aea8fd",
   "metadata": {},
   "outputs": [],
   "source": [
    "s = 'trindowejo'\n",
    "s = list(s)\n",
    "for i in range(0, len(s)//2):\n",
    "    c=''\n",
    "    c = s[i]\n",
    "    s[i] = s[-(i+1)]\n",
    "    s[-(i+1)] = c\n",
    "    \n",
    "p = (\"\").join(x for x in s)\n"
   ]
  },
  {
   "cell_type": "code",
   "execution_count": 528,
   "id": "412592dd",
   "metadata": {},
   "outputs": [
    {
     "data": {
      "text/plain": [
       "'trindowejo'"
      ]
     },
     "execution_count": 528,
     "metadata": {},
     "output_type": "execute_result"
    }
   ],
   "source": [
    "p[::-1]"
   ]
  },
  {
   "cell_type": "markdown",
   "id": "695ce4a4",
   "metadata": {},
   "source": [
    "# Functional Programming\n",
    "\n"
   ]
  },
  {
   "cell_type": "markdown",
   "id": "5d9ef1e0",
   "metadata": {},
   "source": [
    "### Q - to swap number without x,y = y,x and temp variable?\n"
   ]
  },
  {
   "cell_type": "code",
   "execution_count": null,
   "id": "d2f4f7c2",
   "metadata": {},
   "outputs": [],
   "source": [
    "swapping without"
   ]
  },
  {
   "cell_type": "code",
   "execution_count": 65,
   "id": "4e11b302",
   "metadata": {},
   "outputs": [],
   "source": [
    "a = 10\n",
    "b = 20"
   ]
  },
  {
   "cell_type": "code",
   "execution_count": 66,
   "id": "590dd4bd",
   "metadata": {},
   "outputs": [
    {
     "name": "stdout",
     "output_type": "stream",
     "text": [
      "20 10\n"
     ]
    }
   ],
   "source": [
    "a = a+b\n",
    "b = a-b\n",
    "a = a- b\n",
    "print(a,b)"
   ]
  },
  {
   "cell_type": "code",
   "execution_count": 3,
   "id": "e4bfe32d",
   "metadata": {},
   "outputs": [
    {
     "name": "stdout",
     "output_type": "stream",
     "text": [
      "Outside functions [10000, 20, 30]\n"
     ]
    }
   ],
   "source": [
    "def ListMul(listData):\n",
    "    listData[0] = 10000\n",
    "\n",
    "myList = [10,20,30]\n",
    "ListMul(myList)\n",
    "print(\"Outside functions\", myList) # This is because it is mutable data type"
   ]
  },
  {
   "cell_type": "code",
   "execution_count": 5,
   "id": "d9529b66",
   "metadata": {},
   "outputs": [
    {
     "name": "stdout",
     "output_type": "stream",
     "text": [
      "Outside functions 10\n"
     ]
    }
   ],
   "source": [
    "def Change(data):\n",
    "    data = 20\n",
    "\n",
    "myd = 10\n",
    "Change(myd)\n",
    "print(\"Outside functions\", myd) # This is because it is immutable"
   ]
  },
  {
   "cell_type": "code",
   "execution_count": null,
   "id": "1aaab1fe",
   "metadata": {},
   "outputs": [],
   "source": [
    "# Q - funtion to take a list value and create its cube if it is a number and make the changes for the orignal data  "
   ]
  },
  {
   "cell_type": "code",
   "execution_count": 10,
   "id": "88430529",
   "metadata": {},
   "outputs": [
    {
     "name": "stdout",
     "output_type": "stream",
     "text": [
      "After function [8, 27, 64]\n"
     ]
    }
   ],
   "source": [
    "def cube(datalist):\n",
    "    for i in range(0,len(datalist)):\n",
    "        datalist[i] = datalist[i]**3\n",
    "    \n",
    "mylist = [2,3,4]\n",
    "cube(mylist)\n",
    "print(\"After function\", mylist)"
   ]
  },
  {
   "cell_type": "code",
   "execution_count": 38,
   "id": "22e35e4c",
   "metadata": {},
   "outputs": [],
   "source": [
    "n1 = 6\n",
    "n2 = 188"
   ]
  },
  {
   "cell_type": "code",
   "execution_count": 175,
   "id": "3088147d",
   "metadata": {},
   "outputs": [],
   "source": [
    "def lcm(n1,n2):\n",
    "    x = max(n1,n2)\n",
    "    while x != 0:\n",
    "        if x%n1 == 0 and x%n2 == 0:\n",
    "            return x\n",
    "            break\n",
    "        else:\n",
    "            x = x + 1\n",
    "            continue"
   ]
  },
  {
   "cell_type": "code",
   "execution_count": 43,
   "id": "0003a363",
   "metadata": {},
   "outputs": [],
   "source": [
    "def gcd(n1,n2):\n",
    "    x = min(n1,n2)\n",
    "    for i in range(x, 1, -1):\n",
    "        if n1%i == 0 and n2%i == 0:\n",
    "            return i\n",
    "            break\n"
   ]
  },
  {
   "cell_type": "code",
   "execution_count": 47,
   "id": "f99215b2",
   "metadata": {},
   "outputs": [
    {
     "data": {
      "text/plain": [
       "8"
      ]
     },
     "execution_count": 47,
     "metadata": {},
     "output_type": "execute_result"
    }
   ],
   "source": [
    "gcd(8,16)"
   ]
  },
  {
   "cell_type": "code",
   "execution_count": 46,
   "id": "09e67383",
   "metadata": {},
   "outputs": [
    {
     "data": {
      "text/plain": [
       "8.0"
      ]
     },
     "execution_count": 46,
     "metadata": {},
     "output_type": "execute_result"
    }
   ],
   "source": [
    "(8 * 16) / lcm(8,16)"
   ]
  },
  {
   "cell_type": "markdown",
   "id": "ac92b407",
   "metadata": {},
   "source": [
    "# Q- Create a function which takes an parameter of string type \n",
    "-  Accept the string in case if the string contain  all vowels\n",
    "-  Accept the string in case we have all vowels but in even position\n",
    "otherwise return string not accepted"
   ]
  },
  {
   "cell_type": "code",
   "execution_count": 50,
   "id": "da26cdf8",
   "metadata": {},
   "outputs": [],
   "source": [
    "def checkvowels(word):\n",
    "    word = word.lower()\n",
    "    l = ['a', 'e', 'i', 'o', 'u']\n",
    "    for x in word:\n",
    "        if x in l:\n",
    "            l.remove(x)\n",
    "            continue\n",
    "            \n",
    "    if len(l)==0:\n",
    "        print(\"Accepted\")\n",
    "    else:\n",
    "        print(\"Not Accepted\")\n",
    "    \n",
    "            "
   ]
  },
  {
   "cell_type": "code",
   "execution_count": 56,
   "id": "f92d0a92",
   "metadata": {},
   "outputs": [],
   "source": [
    "def checkevenvowels(word):\n",
    "    word = word.lower()\n",
    "    l = ['a', 'e', 'i', 'o', 'u']\n",
    "    for i in range(0, len(word)):\n",
    "        if i%2==0:\n",
    "            if word[i] in l:\n",
    "                l.remove(word[i])\n",
    "                continue\n",
    "        else:\n",
    "            continue\n",
    "            \n",
    "    if len(l)==0:\n",
    "        print(\"Accepted\")\n",
    "    else:\n",
    "        print(\"Not Accepted\")\n",
    "    \n",
    "            "
   ]
  },
  {
   "cell_type": "code",
   "execution_count": 58,
   "id": "6607e9ad",
   "metadata": {},
   "outputs": [
    {
     "name": "stdout",
     "output_type": "stream",
     "text": [
      "Not Accepted\n"
     ]
    }
   ],
   "source": [
    "checkevenvowels('aeiou')"
   ]
  },
  {
   "cell_type": "code",
   "execution_count": null,
   "id": "7329e4c6",
   "metadata": {},
   "outputs": [],
   "source": [
    "# required argument : parameter == argument\n",
    "# positional : based on the position on argument\n",
    "# keyword : change position but we need "
   ]
  },
  {
   "cell_type": "code",
   "execution_count": 82,
   "id": "e2969ed3",
   "metadata": {},
   "outputs": [],
   "source": [
    "def lcmn(*args):\n",
    "    w = lcm(args[0],args[1])\n",
    "    for i in range(2,len(args)):\n",
    "        w = lcm(w, args[i])\n",
    "    return w\n"
   ]
  },
  {
   "cell_type": "code",
   "execution_count": 86,
   "id": "c0a57b5f",
   "metadata": {},
   "outputs": [
    {
     "data": {
      "text/plain": [
       "80"
      ]
     },
     "execution_count": 86,
     "metadata": {},
     "output_type": "execute_result"
    }
   ],
   "source": [
    "lcmn(2,10,5,20,40,80)      "
   ]
  },
  {
   "cell_type": "code",
   "execution_count": 76,
   "id": "cd34000c",
   "metadata": {},
   "outputs": [],
   "source": [
    "# First class function vs High order function"
   ]
  },
  {
   "cell_type": "code",
   "execution_count": 89,
   "id": "4df2e6c3",
   "metadata": {},
   "outputs": [],
   "source": [
    "# Lambda function"
   ]
  },
  {
   "cell_type": "code",
   "execution_count": 92,
   "id": "4b743bcd",
   "metadata": {},
   "outputs": [],
   "source": [
    "o = lambda x: x+10"
   ]
  },
  {
   "cell_type": "code",
   "execution_count": 93,
   "id": "9918dad8",
   "metadata": {},
   "outputs": [
    {
     "data": {
      "text/plain": [
       "30"
      ]
     },
     "execution_count": 93,
     "metadata": {},
     "output_type": "execute_result"
    }
   ],
   "source": [
    "o(20)"
   ]
  },
  {
   "cell_type": "code",
   "execution_count": 95,
   "id": "f1601012",
   "metadata": {},
   "outputs": [
    {
     "data": {
      "text/plain": [
       "[['str'], ['aihsd'], ['sdhia']]"
      ]
     },
     "execution_count": 95,
     "metadata": {},
     "output_type": "execute_result"
    }
   ],
   "source": [
    "l = ['str', 'aihsd', 'sdhia']\n",
    "list(map(lambda x : x.split(\" \"), l))"
   ]
  },
  {
   "cell_type": "code",
   "execution_count": 106,
   "id": "5f1ab93d",
   "metadata": {},
   "outputs": [
    {
     "data": {
      "text/plain": [
       "{4: 6, 8: 9}"
      ]
     },
     "execution_count": 106,
     "metadata": {},
     "output_type": "execute_result"
    }
   ],
   "source": [
    " m = [(1,2), (4,6), (7,8),(8,9)]\n",
    "dict(filter(lambda x: x[0]%2==0, m))"
   ]
  },
  {
   "cell_type": "code",
   "execution_count": 112,
   "id": "15b0d0a1",
   "metadata": {},
   "outputs": [],
   "source": [
    "# -  Now create list of dict value having keys as names and marks as key"
   ]
  },
  {
   "cell_type": "code",
   "execution_count": 169,
   "id": "dcc0cbf6",
   "metadata": {},
   "outputs": [],
   "source": [
    "a = [{'Name': 'Shivam', 'Marks': [10,20,30,40]}, {'Name': 'Mallik', 'Marks': [30,4,6,7,8]},\n",
    "     {'Name': 'Puru', 'Marks': [10,22,33,40,60]}]"
   ]
  },
  {
   "cell_type": "code",
   "execution_count": 158,
   "id": "42544949",
   "metadata": {},
   "outputs": [
    {
     "data": {
      "text/plain": [
       "<function __main__.<lambda>(x)>"
      ]
     },
     "execution_count": 158,
     "metadata": {},
     "output_type": "execute_result"
    }
   ],
   "source": [
    "(lambda x: sum(x)/len(x))"
   ]
  },
  {
   "cell_type": "code",
   "execution_count": 167,
   "id": "bcc00062",
   "metadata": {},
   "outputs": [],
   "source": [
    "formula = {'Average': lambda x: sum(x)/len(x), 'Max': lambda x:max(x),\n",
    "           'Min': lambda x:min(x),'Sum': lambda x:sum(x)}"
   ]
  },
  {
   "cell_type": "code",
   "execution_count": 160,
   "id": "05dcc7e9",
   "metadata": {},
   "outputs": [
    {
     "data": {
      "text/plain": [
       "20.0"
      ]
     },
     "execution_count": 160,
     "metadata": {},
     "output_type": "execute_result"
    }
   ],
   "source": [
    "formula[\"Average\"]([10,20,30])"
   ]
  },
  {
   "cell_type": "code",
   "execution_count": 162,
   "id": "b907b7c6",
   "metadata": {},
   "outputs": [
    {
     "data": {
      "text/plain": [
       "30"
      ]
     },
     "execution_count": 162,
     "metadata": {},
     "output_type": "execute_result"
    }
   ],
   "source": [
    "formula[\"Max\"]([10,20,30])"
   ]
  },
  {
   "cell_type": "code",
   "execution_count": 164,
   "id": "54a47dbf",
   "metadata": {},
   "outputs": [
    {
     "data": {
      "text/plain": [
       "10"
      ]
     },
     "execution_count": 164,
     "metadata": {},
     "output_type": "execute_result"
    }
   ],
   "source": [
    "formula[\"Min\"]([10,20,30])"
   ]
  },
  {
   "cell_type": "code",
   "execution_count": 165,
   "id": "b17d2f57",
   "metadata": {},
   "outputs": [
    {
     "data": {
      "text/plain": [
       "60"
      ]
     },
     "execution_count": 165,
     "metadata": {},
     "output_type": "execute_result"
    }
   ],
   "source": [
    "formula[\"Sum\"]([10,20,30])"
   ]
  },
  {
   "cell_type": "code",
   "execution_count": 171,
   "id": "82cc0635",
   "metadata": {},
   "outputs": [
    {
     "name": "stdout",
     "output_type": "stream",
     "text": [
      "25.0\n",
      "11.0\n",
      "33.0\n"
     ]
    }
   ],
   "source": [
    "for x in a:\n",
    "    for k, v in x.items():\n",
    "        if type(v) == list:\n",
    "            print(formula[\"Average\"](v))\n",
    "            "
   ]
  },
  {
   "cell_type": "code",
   "execution_count": 176,
   "id": "51381d17",
   "metadata": {},
   "outputs": [
    {
     "ename": "TypeError",
     "evalue": "lcm() missing 1 required positional argument: 'n2'",
     "output_type": "error",
     "traceback": [
      "\u001b[1;31m---------------------------------------------------------------------------\u001b[0m",
      "\u001b[1;31mTypeError\u001b[0m                                 Traceback (most recent call last)",
      "\u001b[1;32m~\\AppData\\Local\\Temp\\ipykernel_14008\\799704330.py\u001b[0m in \u001b[0;36m<module>\u001b[1;34m\u001b[0m\n\u001b[0;32m      1\u001b[0m \u001b[0mml\u001b[0m \u001b[1;33m=\u001b[0m \u001b[1;33m[\u001b[0m\u001b[1;33m(\u001b[0m\u001b[1;36m10\u001b[0m\u001b[1;33m,\u001b[0m\u001b[1;36m2\u001b[0m\u001b[1;33m)\u001b[0m\u001b[1;33m,\u001b[0m \u001b[1;33m(\u001b[0m\u001b[1;36m4\u001b[0m\u001b[1;33m,\u001b[0m\u001b[1;36m2\u001b[0m\u001b[1;33m)\u001b[0m\u001b[1;33m]\u001b[0m\u001b[1;33m\u001b[0m\u001b[1;33m\u001b[0m\u001b[0m\n\u001b[1;32m----> 2\u001b[1;33m \u001b[0mlist\u001b[0m\u001b[1;33m(\u001b[0m\u001b[0mmap\u001b[0m\u001b[1;33m(\u001b[0m\u001b[0mlcm\u001b[0m\u001b[1;33m,\u001b[0m \u001b[0mml\u001b[0m\u001b[1;33m)\u001b[0m\u001b[1;33m)\u001b[0m\u001b[1;33m\u001b[0m\u001b[1;33m\u001b[0m\u001b[0m\n\u001b[0m",
      "\u001b[1;31mTypeError\u001b[0m: lcm() missing 1 required positional argument: 'n2'"
     ]
    }
   ],
   "source": [
    "ml = [(10,2), (4,2)]\n",
    "list(map(lcm, ml))"
   ]
  },
  {
   "cell_type": "code",
   "execution_count": 203,
   "id": "69e63786",
   "metadata": {},
   "outputs": [
    {
     "data": {
      "text/plain": [
       "['2 X 1 = 2',\n",
       " '2 X 2 = 4',\n",
       " '2 X 3 = 6',\n",
       " '2 X 4 = 8',\n",
       " '2 X 5 = 10',\n",
       " '2 X 6 = 12',\n",
       " '2 X 7 = 14',\n",
       " '2 X 8 = 16',\n",
       " '2 X 9 = 18',\n",
       " '2 X 10 = 20']"
      ]
     },
     "execution_count": 203,
     "metadata": {},
     "output_type": "execute_result"
    }
   ],
   "source": [
    "list(map(lambda x: '2 X {} = {}'.format(x,2*x), range(1,11) ))"
   ]
  },
  {
   "cell_type": "code",
   "execution_count": null,
   "id": "3acd2d2a",
   "metadata": {},
   "outputs": [],
   "source": []
  },
  {
   "cell_type": "code",
   "execution_count": null,
   "id": "3db5da73",
   "metadata": {},
   "outputs": [],
   "source": []
  },
  {
   "cell_type": "code",
   "execution_count": null,
   "id": "b93f383a",
   "metadata": {},
   "outputs": [],
   "source": []
  },
  {
   "cell_type": "code",
   "execution_count": null,
   "id": "bfe40753",
   "metadata": {},
   "outputs": [],
   "source": []
  }
 ],
 "metadata": {
  "kernelspec": {
   "display_name": "Python 3 (ipykernel)",
   "language": "python",
   "name": "python3"
  },
  "language_info": {
   "codemirror_mode": {
    "name": "ipython",
    "version": 3
   },
   "file_extension": ".py",
   "mimetype": "text/x-python",
   "name": "python",
   "nbconvert_exporter": "python",
   "pygments_lexer": "ipython3",
   "version": "3.9.13"
  }
 },
 "nbformat": 4,
 "nbformat_minor": 5
}
