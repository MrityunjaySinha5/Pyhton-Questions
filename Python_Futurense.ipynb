{
 "cells": [
  {
   "cell_type": "code",
   "execution_count": 1,
   "id": "fe0c7fc6",
   "metadata": {},
   "outputs": [
    {
     "name": "stdout",
     "output_type": "stream",
     "text": [
      "hello world-hello me\n"
     ]
    }
   ],
   "source": [
    "print(\"hello world\", end =\"-\")\n",
    "print(\"hello me\")"
   ]
  },
  {
   "cell_type": "code",
   "execution_count": null,
   "id": "8aaa26fe",
   "metadata": {},
   "outputs": [],
   "source": [
    "call by object reference"
   ]
  },
  {
   "cell_type": "markdown",
   "id": "871d2ede",
   "metadata": {},
   "source": [
    "multi line string\n"
   ]
  },
  {
   "cell_type": "code",
   "execution_count": 6,
   "id": "02df0251",
   "metadata": {},
   "outputs": [],
   "source": [
    "address =\"\"\"street name\n",
    "city name\n",
    "state \n",
    "pincode\"\"\""
   ]
  },
  {
   "cell_type": "code",
   "execution_count": 7,
   "id": "d1ed3d21",
   "metadata": {},
   "outputs": [
    {
     "name": "stdout",
     "output_type": "stream",
     "text": [
      "street name\n",
      "city name\n",
      "state \n",
      "pincode\n"
     ]
    }
   ],
   "source": [
    "print(address)"
   ]
  },
  {
   "cell_type": "code",
   "execution_count": 8,
   "id": "1abea1d7",
   "metadata": {},
   "outputs": [
    {
     "name": "stdout",
     "output_type": "stream",
     "text": [
      "my name is mrityunjay and i work in futurense\n"
     ]
    }
   ],
   "source": [
    "# formatting string\n",
    "name =  \"mrityunjay\"\n",
    "company = \"futurense\"\n",
    "print(f\"my name is {name} and i work in {company}\")"
   ]
  },
  {
   "cell_type": "code",
   "execution_count": 9,
   "id": "2190fcf5",
   "metadata": {},
   "outputs": [],
   "source": [
    "# today implementation assignment\n",
    "# use the formatting for converting the float number into string"
   ]
  },
  {
   "cell_type": "code",
   "execution_count": 12,
   "id": "477f24f2",
   "metadata": {},
   "outputs": [
    {
     "name": "stdout",
     "output_type": "stream",
     "text": [
      "my grade are 7.26\n"
     ]
    }
   ],
   "source": [
    "grade = 7.26\n",
    "grade = f\"{grade}\"\n",
    "print(\"my grade are {}\".format(grade))"
   ]
  },
  {
   "cell_type": "code",
   "execution_count": 14,
   "id": "48d09c8b",
   "metadata": {},
   "outputs": [
    {
     "name": "stdout",
     "output_type": "stream",
     "text": [
      "<class 'str'>\n"
     ]
    }
   ],
   "source": [
    "print(type(grade))"
   ]
  },
  {
   "cell_type": "code",
   "execution_count": null,
   "id": "34438e09",
   "metadata": {},
   "outputs": [],
   "source": [
    "# operators\n",
    "'''\n",
    "Assignment\n",
    "Comparison\n",
    "Logical\n",
    "Bitwise\n",
    "Membership\n",
    "Identity\n",
    "\n",
    "'''"
   ]
  },
  {
   "cell_type": "code",
   "execution_count": 40,
   "id": "e297beac",
   "metadata": {},
   "outputs": [
    {
     "data": {
      "text/plain": [
       "'\\n** exponent (ritght to left)\\n/ * // % * (same priority but less than exponent) OOE (left to right)\\n+ - (least priority) OOE (left to right)\\n'"
      ]
     },
     "execution_count": 40,
     "metadata": {},
     "output_type": "execute_result"
    }
   ],
   "source": [
    "# priority order\n",
    "\"\"\"\n",
    "** exponent (ritght to left)\n",
    "/ * // % * (same priority but less than exponent) OOE (left to right)\n",
    "+ - (least priority) OOE (left to right)\n",
    "\"\"\""
   ]
  },
  {
   "cell_type": "code",
   "execution_count": 17,
   "id": "cc714cdc",
   "metadata": {},
   "outputs": [],
   "source": [
    "# Assignment\n",
    "\n",
    "# literal is 10 here\n",
    "x = 10\n",
    "\n",
    "# right hand side expression\n",
    "x = x+ 5\n",
    "# or\n",
    "x+= 5\n",
    "\n",
    "# +=, *=, /="
   ]
  },
  {
   "cell_type": "code",
   "execution_count": 18,
   "id": "d665cca5",
   "metadata": {},
   "outputs": [],
   "source": [
    "# comparison\n",
    "\n",
    "# >, >=, < , <=, !=\n",
    "\n"
   ]
  },
  {
   "cell_type": "code",
   "execution_count": 37,
   "id": "77e8801c",
   "metadata": {},
   "outputs": [],
   "source": [
    "# logical operator\n",
    "\n",
    "# condition => valid (one or two)"
   ]
  },
  {
   "cell_type": "code",
   "execution_count": 36,
   "id": "2bf1cfca",
   "metadata": {},
   "outputs": [
    {
     "data": {
      "text/plain": [
       "'\\n      8421\\n0-15\\n\\n7     0111\\n13    1101\\n\\n&     0101\\n\\n7 & 13 = 5\\n\\n|     1111\\n\\n7 | 13 = 15\\n\\n'"
      ]
     },
     "execution_count": 36,
     "metadata": {},
     "output_type": "execute_result"
    }
   ],
   "source": [
    "# bitwise operator\n",
    "'''\n",
    "      8421\n",
    "0-15\n",
    "\n",
    "7     0111\n",
    "13    1101\n",
    "\n",
    "&     0101\n",
    "\n",
    "7 & 13 = 5\n",
    "\n",
    "|     1111\n",
    "\n",
    "7 | 13 = 15\n",
    "\n",
    "'''"
   ]
  },
  {
   "cell_type": "code",
   "execution_count": 19,
   "id": "7779f85d",
   "metadata": {},
   "outputs": [
    {
     "data": {
      "text/plain": [
       "5"
      ]
     },
     "execution_count": 19,
     "metadata": {},
     "output_type": "execute_result"
    }
   ],
   "source": [
    "7 & 13"
   ]
  },
  {
   "cell_type": "code",
   "execution_count": 20,
   "id": "da71b34a",
   "metadata": {},
   "outputs": [
    {
     "data": {
      "text/plain": [
       "15"
      ]
     },
     "execution_count": 20,
     "metadata": {},
     "output_type": "execute_result"
    }
   ],
   "source": [
    "7 | 13"
   ]
  },
  {
   "cell_type": "code",
   "execution_count": 21,
   "id": "bdbf5545",
   "metadata": {},
   "outputs": [],
   "source": [
    "# bitwise right operator \n",
    "# bitwise left operator"
   ]
  },
  {
   "cell_type": "code",
   "execution_count": 23,
   "id": "9f03c70e",
   "metadata": {},
   "outputs": [],
   "source": [
    "# membership operator\n",
    "\n",
    "# in , not in "
   ]
  },
  {
   "cell_type": "code",
   "execution_count": 24,
   "id": "73774496",
   "metadata": {},
   "outputs": [
    {
     "data": {
      "text/plain": [
       "True"
      ]
     },
     "execution_count": 24,
     "metadata": {},
     "output_type": "execute_result"
    }
   ],
   "source": [
    "# identity - it validates if the data type is the class or not\n",
    "\n",
    "x = 10\n",
    "type(x) is int"
   ]
  },
  {
   "cell_type": "code",
   "execution_count": 25,
   "id": "d969ba8c",
   "metadata": {},
   "outputs": [],
   "source": [
    "# python\n",
    "# terminologies\n",
    "# data type\n",
    "# mutable vs immutable\n",
    "# operator\n",
    "# string formatting"
   ]
  },
  {
   "cell_type": "code",
   "execution_count": 26,
   "id": "067ba8ae",
   "metadata": {},
   "outputs": [],
   "source": [
    "# is operator check the memory address of objects"
   ]
  },
  {
   "cell_type": "code",
   "execution_count": 28,
   "id": "f3252637",
   "metadata": {},
   "outputs": [
    {
     "data": {
      "text/plain": [
       "False"
      ]
     },
     "execution_count": 28,
     "metadata": {},
     "output_type": "execute_result"
    }
   ],
   "source": [
    "x = 20 \n",
    "y = 10\n",
    "\n",
    "x is y"
   ]
  },
  {
   "cell_type": "code",
   "execution_count": null,
   "id": "ee93e0ce",
   "metadata": {},
   "outputs": [],
   "source": [
    "# operator priority order"
   ]
  },
  {
   "cell_type": "code",
   "execution_count": 35,
   "id": "0694bd6e",
   "metadata": {},
   "outputs": [
    {
     "data": {
      "text/plain": [
       "'\\nP – Parentheses\\nE – Exponentiation\\nM – Multiplication\\nD – Division\\nA – Addition\\nS – Subtraction\\n\\n'"
      ]
     },
     "execution_count": 35,
     "metadata": {},
     "output_type": "execute_result"
    }
   ],
   "source": [
    "# bro\n",
    "'''\n",
    "P – Parentheses\n",
    "E – Exponentiation\n",
    "M – Multiplication\n",
    "D – Division\n",
    "A – Addition\n",
    "S – Subtraction\n",
    "\n",
    "'''"
   ]
  },
  {
   "cell_type": "code",
   "execution_count": 41,
   "id": "fd571d8d",
   "metadata": {},
   "outputs": [],
   "source": [
    "# --> Assignment\n",
    "# Q--Difference between .py and .pyc file?\n",
    "# Q--When we create a variable in which memory it is created? \n",
    "# Q--Identifier vs Keyword?\n",
    "# Q-- to implement bitwise xor "
   ]
  },
  {
   "cell_type": "code",
   "execution_count": 42,
   "id": "576f4a17",
   "metadata": {},
   "outputs": [
    {
     "data": {
      "text/plain": [
       "''"
      ]
     },
     "execution_count": 42,
     "metadata": {},
     "output_type": "execute_result"
    }
   ],
   "source": [
    "city = \"BANGALORE\"\n",
    "city[-1:-4]"
   ]
  },
  {
   "cell_type": "code",
   "execution_count": 43,
   "id": "b21ba75c",
   "metadata": {},
   "outputs": [
    {
     "data": {
      "text/plain": [
       "'ERO'"
      ]
     },
     "execution_count": 43,
     "metadata": {},
     "output_type": "execute_result"
    }
   ],
   "source": [
    "city[-1:5:-1]"
   ]
  },
  {
   "cell_type": "code",
   "execution_count": 44,
   "id": "b78a9543",
   "metadata": {},
   "outputs": [],
   "source": [
    "# Take two input from the user and validte the input given if it's integer then \n",
    "# perform the arithmetic operation other ask arthemetic funtion "
   ]
  },
  {
   "cell_type": "code",
   "execution_count": 54,
   "id": "4abc715c",
   "metadata": {},
   "outputs": [
    {
     "name": "stdout",
     "output_type": "stream",
     "text": [
      "Enter first number 5\n",
      "Enter first number 5\n",
      "<class 'str'>\n",
      "Not int\n"
     ]
    }
   ],
   "source": [
    "input1 = input(\"Enter first number \")\n",
    "input2 = input(\"Enter first number \")\n",
    "\n",
    "if \n",
    "if type(input1) is str and type(input2) is str:\n",
    "    print(\"Not int\")\n",
    "else:\n",
    "    print(input1 + input2)\n",
    "    "
   ]
  },
  {
   "cell_type": "code",
   "execution_count": 55,
   "id": "10e475fd",
   "metadata": {},
   "outputs": [
    {
     "name": "stdout",
     "output_type": "stream",
     "text": [
      "Enter first number 6\n",
      "No\n"
     ]
    }
   ],
   "source": [
    "n = input(\"Enter first number \")\n",
    "\n",
    "if n == int(n):\n",
    "    print(\"yes\")\n",
    "else:\n",
    "    print(\"No\")"
   ]
  },
  {
   "cell_type": "code",
   "execution_count": 56,
   "id": "8af76ba3",
   "metadata": {},
   "outputs": [],
   "source": [
    "# - Take a string from user in case if we find out any character in \n",
    "# repetition "
   ]
  },
  {
   "cell_type": "code",
   "execution_count": 132,
   "id": "611aa537",
   "metadata": {},
   "outputs": [
    {
     "name": "stdout",
     "output_type": "stream",
     "text": [
      "Enter the string hello\n",
      "helo\n"
     ]
    }
   ],
   "source": [
    "strin =  input(\"Enter the string \")\n",
    "a = []\n",
    "b = []\n",
    "prev = ''\n",
    "for x in strin:\n",
    "    if x == prev :\n",
    "        continue\n",
    "    else:\n",
    "        a.append(x)\n",
    "    \n",
    "\n",
    "    prev = x\n",
    "\n",
    "print(\"\".join(a))\n",
    "\n",
    "        "
   ]
  },
  {
   "cell_type": "code",
   "execution_count": 115,
   "id": "4b55dd7f",
   "metadata": {},
   "outputs": [
    {
     "name": "stdout",
     "output_type": "stream",
     "text": [
      "5\n"
     ]
    }
   ],
   "source": [
    "a = \"hello\"\n",
    "print(len(a))"
   ]
  },
  {
   "cell_type": "code",
   "execution_count": 89,
   "id": "1c80b00b",
   "metadata": {},
   "outputs": [
    {
     "data": {
      "text/plain": [
       "['h', 'e', 'l', 'l', 'o']"
      ]
     },
     "execution_count": 89,
     "metadata": {},
     "output_type": "execute_result"
    }
   ],
   "source": [
    "a"
   ]
  },
  {
   "cell_type": "code",
   "execution_count": 90,
   "id": "501a905e",
   "metadata": {},
   "outputs": [
    {
     "data": {
      "text/plain": [
       "'h'"
      ]
     },
     "execution_count": 90,
     "metadata": {},
     "output_type": "execute_result"
    }
   ],
   "source": [
    "a"
   ]
  },
  {
   "cell_type": "code",
   "execution_count": 105,
   "id": "8eac92c6",
   "metadata": {},
   "outputs": [
    {
     "name": "stdout",
     "output_type": "stream",
     "text": [
      "Enter the string hello\n",
      "h 1\n",
      "e 1\n",
      "l 2\n",
      "o 1\n"
     ]
    }
   ],
   "source": [
    "strin =  input(\"Enter the string \")\n",
    "a=[]\n",
    "for x in strin:\n",
    "    count = 0 \n",
    "    for y in strin:\n",
    "        if x == y:\n",
    "            count +=1\n",
    "    if x not in a: \n",
    "        print(x, count)\n",
    "        a.append(x)"
   ]
  },
  {
   "cell_type": "code",
   "execution_count": 133,
   "id": "c4a03ef6",
   "metadata": {},
   "outputs": [],
   "source": [
    "# Take an input from the user and validate the input based on "
   ]
  },
  {
   "cell_type": "code",
   "execution_count": 142,
   "id": "76c118a1",
   "metadata": {},
   "outputs": [
    {
     "name": "stdout",
     "output_type": "stream",
     "text": [
      "* * * * \n",
      "* * * * \n",
      "* * * * \n",
      "* * * * \n"
     ]
    }
   ],
   "source": [
    "for x in range(0,4):\n",
    "    for y in range(0,4):\n",
    "        if y<=x:\n",
    "            print(\"*\" ,end=\" \")\n",
    "    print(end=\"\\n\")"
   ]
  },
  {
   "cell_type": "code",
   "execution_count": 138,
   "id": "501dee19",
   "metadata": {},
   "outputs": [
    {
     "name": "stdout",
     "output_type": "stream",
     "text": [
      "* * * * \n",
      "* * * \n",
      "* * \n",
      "* \n"
     ]
    }
   ],
   "source": [
    "for x in range(0,4):\n",
    "    for y in range(0,4):\n",
    "        if y>=x:\n",
    "            print(\"*\", end =\" \")\n",
    "\n",
    "            print(end = \"\\n\")"
   ]
  },
  {
   "cell_type": "code",
   "execution_count": 153,
   "id": "91482dab",
   "metadata": {},
   "outputs": [
    {
     "name": "stdout",
     "output_type": "stream",
     "text": [
      "A \n",
      "A B \n",
      "A B C \n",
      "A B C D \n"
     ]
    }
   ],
   "source": [
    "for x in range(0,4):\n",
    "    a = 'A'\n",
    "    for y in range(0,4):\n",
    "        if y<=x:\n",
    "            print(a ,end=\" \")\n",
    "            a = chr(ord(a)+1)\n",
    "    print(end=\"\\n\")"
   ]
  },
  {
   "cell_type": "code",
   "execution_count": 150,
   "id": "aa2e1f84",
   "metadata": {},
   "outputs": [
    {
     "name": "stdout",
     "output_type": "stream",
     "text": [
      "A \n",
      "B C \n",
      "D E F \n",
      "G H I J \n"
     ]
    }
   ],
   "source": [
    "a = 'A'\n",
    "for x in range(0,4):\n",
    "    for y in range(0,4):\n",
    "        if y<=x:\n",
    "            print(a ,end=\" \")\n",
    "            a = chr(ord(a)+1)\n",
    "    print(end=\"\\n\")"
   ]
  },
  {
   "cell_type": "code",
   "execution_count": 155,
   "id": "d3827f4c",
   "metadata": {},
   "outputs": [
    {
     "name": "stdout",
     "output_type": "stream",
     "text": [
      "1 \n",
      "1 2 \n",
      "1 2 3 \n",
      "1 2 3 4 \n"
     ]
    }
   ],
   "source": [
    "for x in range(0,4):\n",
    "    a = 1\n",
    "    for y in range(0,4):\n",
    "        if y<=x:\n",
    "            print(a ,end=\" \")\n",
    "            a = a + 1\n",
    "    print(end=\"\\n\")"
   ]
  },
  {
   "cell_type": "code",
   "execution_count": 156,
   "id": "4f59cf5c",
   "metadata": {},
   "outputs": [
    {
     "name": "stdout",
     "output_type": "stream",
     "text": [
      "1 \n",
      "2 3 \n",
      "4 5 6 \n",
      "7 8 9 10 \n"
     ]
    }
   ],
   "source": [
    "a = 1\n",
    "for x in range(0,4):\n",
    "    for y in range(0,4):\n",
    "        if y<=x:\n",
    "            print(a ,end=\" \")\n",
    "            a = a + 1\n",
    "    print(end=\"\\n\")"
   ]
  },
  {
   "cell_type": "code",
   "execution_count": 194,
   "id": "1f5f6fec",
   "metadata": {},
   "outputs": [
    {
     "name": "stdout",
     "output_type": "stream",
     "text": [
      "        * \n",
      "      * * * \n",
      "    * * * * * \n",
      "  * * * * * * * \n",
      "* * * * * * * * * \n"
     ]
    }
   ],
   "source": [
    "n=6\n",
    "for x in  range(1, n):\n",
    "    for y in range(1,n-1):\n",
    "        print(\" \", end=\" \")\n",
    "    n = n-1\n",
    "    for j in range(0, ((2*x) - 1)):\n",
    "        print(\"*\", end =\" \")\n",
    "    print(end=\"\\n\")\n",
    "                 "
   ]
  },
  {
   "cell_type": "code",
   "execution_count": 206,
   "id": "d58ee12f",
   "metadata": {},
   "outputs": [
    {
     "name": "stdout",
     "output_type": "stream",
     "text": [
      "* * * * * * * * * \n",
      "  * * * * * * * \n",
      "    * * * * * \n",
      "      * * * \n",
      "        * \n"
     ]
    }
   ],
   "source": [
    "n = 6\n",
    "z = n-1\n",
    "for x in  range(n-1,0,-1):\n",
    "    for y in range(1, n-z):\n",
    "        print(\" \", end=\" \")\n",
    "    n = n+1\n",
    "    for j in range(0, ((2*x) - 1)):\n",
    "        print(\"*\", end =\" \")\n",
    "    print(end=\"\\n\")\n",
    "                 "
   ]
  },
  {
   "cell_type": "code",
   "execution_count": 233,
   "id": "4dae19ad",
   "metadata": {},
   "outputs": [
    {
     "name": "stdout",
     "output_type": "stream",
     "text": [
      "* * * * * \n",
      "*       * \n",
      "*       * \n",
      "*       * \n",
      "* * * * * \n"
     ]
    }
   ],
   "source": [
    "n = 5 \n",
    "for x in range(1, n+1):\n",
    "    for y in range(1,n+1):\n",
    "        if x == 1 or x == n or y == 1 or y == n:\n",
    "            print(\"*\", end= \" \")\n",
    "        else:\n",
    "            print(end=\"  \")\n",
    "    print(end = \"\\n\")"
   ]
  },
  {
   "cell_type": "code",
   "execution_count": null,
   "id": "2600d79f",
   "metadata": {},
   "outputs": [],
   "source": [
    "for x in range(1,4):\n",
    "    for y in range()"
   ]
  },
  {
   "cell_type": "code",
   "execution_count": null,
   "id": "bb2c0023",
   "metadata": {},
   "outputs": [],
   "source": []
  },
  {
   "cell_type": "code",
   "execution_count": null,
   "id": "0e06c310",
   "metadata": {},
   "outputs": [],
   "source": []
  },
  {
   "cell_type": "code",
   "execution_count": null,
   "id": "1bdbc06d",
   "metadata": {},
   "outputs": [],
   "source": []
  },
  {
   "cell_type": "code",
   "execution_count": null,
   "id": "4d8eb126",
   "metadata": {},
   "outputs": [],
   "source": []
  },
  {
   "cell_type": "code",
   "execution_count": null,
   "id": "ac327511",
   "metadata": {},
   "outputs": [],
   "source": []
  },
  {
   "cell_type": "code",
   "execution_count": null,
   "id": "205eb7c1",
   "metadata": {},
   "outputs": [],
   "source": []
  },
  {
   "cell_type": "code",
   "execution_count": null,
   "id": "3a44e820",
   "metadata": {},
   "outputs": [],
   "source": []
  },
  {
   "cell_type": "code",
   "execution_count": null,
   "id": "af3f47cf",
   "metadata": {},
   "outputs": [],
   "source": []
  },
  {
   "cell_type": "code",
   "execution_count": null,
   "id": "71844b8e",
   "metadata": {},
   "outputs": [],
   "source": []
  },
  {
   "cell_type": "code",
   "execution_count": null,
   "id": "89d219d8",
   "metadata": {},
   "outputs": [],
   "source": []
  },
  {
   "cell_type": "code",
   "execution_count": null,
   "id": "64be4a6a",
   "metadata": {},
   "outputs": [],
   "source": []
  },
  {
   "cell_type": "code",
   "execution_count": null,
   "id": "00ecea3a",
   "metadata": {},
   "outputs": [],
   "source": []
  },
  {
   "cell_type": "code",
   "execution_count": null,
   "id": "43290df7",
   "metadata": {},
   "outputs": [],
   "source": [
    "#  Q-   * * * * *\n",
    "#         * * *\n",
    "#           *"
   ]
  },
  {
   "cell_type": "code",
   "execution_count": null,
   "id": "12d5de80",
   "metadata": {},
   "outputs": [],
   "source": [
    "# Q-     * * * *\n",
    "#        *     *\n",
    "#        *     *\n",
    "#        * * * *"
   ]
  },
  {
   "cell_type": "code",
   "execution_count": 234,
   "id": "6985498c",
   "metadata": {},
   "outputs": [],
   "source": [
    "# 1\n",
    "# 2 4\n",
    "# 3 6 9\n",
    "# 4 8 12 16"
   ]
  },
  {
   "cell_type": "markdown",
   "id": "cbad4aa7",
   "metadata": {},
   "source": [
    "# Q- Take a input from the user and check the data based on the condition\n",
    "- The data should be of string data type\n",
    "- The length of the input should lie in th range from 6 to 15 character in length\n",
    "- The input should have atleasr 1 capital letter (A to Z)\n",
    "- 1 small letter (A to J)\n",
    "- 1 Number (0 to 9)\n",
    "- 1 special character( #, @, $, %)\n",
    "\n",
    "In case any of the condition is not valid ask for the input from \n",
    "    the user upto 4 times othewise exit the program by putting mesasge input given is wrong"
   ]
  },
  {
   "cell_type": "code",
   "execution_count": 284,
   "id": "e910d52f",
   "metadata": {},
   "outputs": [
    {
     "name": "stdout",
     "output_type": "stream",
     "text": [
      "Enter the password manu@1\n",
      "Try again \n",
      "Enter password again asdasddjo@1\n",
      "Try again \n",
      "Enter password again nifsdofij@9\n",
      "Try again \n",
      "Enter password again djsnfdw@\n",
      "Not Valid Exiting Now\n"
     ]
    }
   ],
   "source": [
    "def passcheck(password, count, trial):\n",
    "    if len(password) in range(6,16):\n",
    "        for x in password:\n",
    "            if ord(x) in range(65,91):\n",
    "                count.append(1)\n",
    "            elif ord(x) in range(97,123):\n",
    "                count.append(2)\n",
    "            elif ord(x) in range(48, 58):\n",
    "                count.append(3)\n",
    "            elif ord(x) in [32, 47, 58, 64, 91, 96, 123, 126]:\n",
    "                count.append(4)\n",
    "        if [1,2,3,4] == list(set(count)):\n",
    "            print(\"Password satisfied\")\n",
    "        elif trial == 3:\n",
    "            print(\"Not Valid Exiting Now\")\n",
    "        else:\n",
    "            print(\"Try again \")\n",
    "            n = input(\"Enter password again \")\n",
    "            trial = trial+1\n",
    "            passcheck(n, count, trial)\n",
    "    elif trial == 3:\n",
    "            print(\"Not Valid Exiting Now\")\n",
    "    else:\n",
    "        print(\"Try again \")\n",
    "        n = input(\"Enter password again \")\n",
    "        trial = trial+1\n",
    "        passcheck(n, count, trial)\n",
    "\n",
    "password = input(\"Enter the password \")\n",
    "passcheck(password, [],0)"
   ]
  },
  {
   "cell_type": "code",
   "execution_count": null,
   "id": "8f20c7b9",
   "metadata": {},
   "outputs": [],
   "source": [
    "\n"
   ]
  },
  {
   "cell_type": "code",
   "execution_count": null,
   "id": "fbe4830c",
   "metadata": {},
   "outputs": [],
   "source": []
  },
  {
   "cell_type": "code",
   "execution_count": null,
   "id": "ede4983e",
   "metadata": {},
   "outputs": [],
   "source": []
  },
  {
   "cell_type": "code",
   "execution_count": null,
   "id": "6f7d53f3",
   "metadata": {},
   "outputs": [],
   "source": []
  },
  {
   "cell_type": "code",
   "execution_count": null,
   "id": "c211853f",
   "metadata": {},
   "outputs": [],
   "source": []
  },
  {
   "cell_type": "code",
   "execution_count": null,
   "id": "96dd733d",
   "metadata": {},
   "outputs": [],
   "source": []
  },
  {
   "cell_type": "code",
   "execution_count": null,
   "id": "bcb1f589",
   "metadata": {},
   "outputs": [],
   "source": [
    "create a alist  multiple element of diff type in case if the element is of str \n",
    "data type then try to delete the element from list \n",
    "otherwise create the square of the numbewr and update in the list"
   ]
  },
  {
   "cell_type": "code",
   "execution_count": 256,
   "id": "83e870a5",
   "metadata": {},
   "outputs": [
    {
     "data": {
      "text/plain": [
       "[1, 9, 25, 64]"
      ]
     },
     "execution_count": 256,
     "metadata": {},
     "output_type": "execute_result"
    }
   ],
   "source": [
    "m = [1,3,5,8,'t','j']\n",
    "x = []\n",
    "for i in range(0,len(m)):\n",
    "    if type(m[i]) == str:\n",
    "        pass\n",
    "    else:\n",
    "        x.append(m[i])\n",
    "x = [i**2 for i in x]\n",
    "x"
   ]
  },
  {
   "cell_type": "code",
   "execution_count": 243,
   "id": "595aa1f8",
   "metadata": {},
   "outputs": [
    {
     "data": {
      "text/plain": [
       "[1, 9, 25, 64, 'j']"
      ]
     },
     "execution_count": 243,
     "metadata": {},
     "output_type": "execute_result"
    }
   ],
   "source": [
    "m"
   ]
  },
  {
   "cell_type": "code",
   "execution_count": null,
   "id": "f22699a5",
   "metadata": {},
   "outputs": [],
   "source": [
    "mytuple = 10,\"A\"\n"
   ]
  },
  {
   "cell_type": "markdown",
   "id": "71adac7f",
   "metadata": {},
   "source": [
    "# Q - why we are able to create empty tuple?\n"
   ]
  },
  {
   "cell_type": "markdown",
   "id": "f4663095",
   "metadata": {},
   "source": [
    "# Q - find out diff between tuple and list?\n",
    "\n",
    "# Q - find out diff between tuple and list"
   ]
  },
  {
   "cell_type": "markdown",
   "id": "cc8ac466",
   "metadata": {},
   "source": [
    "# Q- Assignment - How to launch an ec2 instance with python\n",
    "###    (boto3 library)\n",
    "###    - error in ami"
   ]
  },
  {
   "cell_type": "code",
   "execution_count": 301,
   "id": "b9aa00b1",
   "metadata": {},
   "outputs": [],
   "source": [
    "d = {'a':1,'b':2}"
   ]
  },
  {
   "cell_type": "code",
   "execution_count": 306,
   "id": "c05a9cb8",
   "metadata": {},
   "outputs": [
    {
     "data": {
      "text/plain": [
       "{'a': None}"
      ]
     },
     "execution_count": 306,
     "metadata": {},
     "output_type": "execute_result"
    }
   ],
   "source": [
    "d.fromkeys('a')"
   ]
  },
  {
   "cell_type": "markdown",
   "id": "86bf2225",
   "metadata": {},
   "source": [
    "# Q-   Difference between zip and enumerate method?"
   ]
  },
  {
   "cell_type": "code",
   "execution_count": 311,
   "id": "14957dad",
   "metadata": {},
   "outputs": [
    {
     "name": "stdout",
     "output_type": "stream",
     "text": [
      "Help on class zip in module builtins:\n",
      "\n",
      "class zip(object)\n",
      " |  zip(*iterables) --> A zip object yielding tuples until an input is exhausted.\n",
      " |  \n",
      " |     >>> list(zip('abcdefg', range(3), range(4)))\n",
      " |     [('a', 0, 0), ('b', 1, 1), ('c', 2, 2)]\n",
      " |  \n",
      " |  The zip object yields n-length tuples, where n is the number of iterables\n",
      " |  passed as positional arguments to zip().  The i-th element in every tuple\n",
      " |  comes from the i-th iterable argument to zip().  This continues until the\n",
      " |  shortest argument is exhausted.\n",
      " |  \n",
      " |  Methods defined here:\n",
      " |  \n",
      " |  __getattribute__(self, name, /)\n",
      " |      Return getattr(self, name).\n",
      " |  \n",
      " |  __iter__(self, /)\n",
      " |      Implement iter(self).\n",
      " |  \n",
      " |  __next__(self, /)\n",
      " |      Implement next(self).\n",
      " |  \n",
      " |  __reduce__(...)\n",
      " |      Return state information for pickling.\n",
      " |  \n",
      " |  ----------------------------------------------------------------------\n",
      " |  Static methods defined here:\n",
      " |  \n",
      " |  __new__(*args, **kwargs) from builtins.type\n",
      " |      Create and return a new object.  See help(type) for accurate signature.\n",
      "\n"
     ]
    }
   ],
   "source": [
    "help(zip)\n"
   ]
  },
  {
   "cell_type": "code",
   "execution_count": 312,
   "id": "02d53351",
   "metadata": {},
   "outputs": [],
   "source": [
    "t = (10,20,(10,3))"
   ]
  },
  {
   "cell_type": "code",
   "execution_count": null,
   "id": "3a810e60",
   "metadata": {},
   "outputs": [],
   "source": [
    "# Q - perform union , difference, isdisjoint, symetric_difference_update, issupersubset"
   ]
  },
  {
   "cell_type": "code",
   "execution_count": 313,
   "id": "0932d381",
   "metadata": {},
   "outputs": [
    {
     "name": "stdout",
     "output_type": "stream",
     "text": [
      "Help on class set in module builtins:\n",
      "\n",
      "class set(object)\n",
      " |  set() -> new empty set object\n",
      " |  set(iterable) -> new set object\n",
      " |  \n",
      " |  Build an unordered collection of unique elements.\n",
      " |  \n",
      " |  Methods defined here:\n",
      " |  \n",
      " |  __and__(self, value, /)\n",
      " |      Return self&value.\n",
      " |  \n",
      " |  __contains__(...)\n",
      " |      x.__contains__(y) <==> y in x.\n",
      " |  \n",
      " |  __eq__(self, value, /)\n",
      " |      Return self==value.\n",
      " |  \n",
      " |  __ge__(self, value, /)\n",
      " |      Return self>=value.\n",
      " |  \n",
      " |  __getattribute__(self, name, /)\n",
      " |      Return getattr(self, name).\n",
      " |  \n",
      " |  __gt__(self, value, /)\n",
      " |      Return self>value.\n",
      " |  \n",
      " |  __iand__(self, value, /)\n",
      " |      Return self&=value.\n",
      " |  \n",
      " |  __init__(self, /, *args, **kwargs)\n",
      " |      Initialize self.  See help(type(self)) for accurate signature.\n",
      " |  \n",
      " |  __ior__(self, value, /)\n",
      " |      Return self|=value.\n",
      " |  \n",
      " |  __isub__(self, value, /)\n",
      " |      Return self-=value.\n",
      " |  \n",
      " |  __iter__(self, /)\n",
      " |      Implement iter(self).\n",
      " |  \n",
      " |  __ixor__(self, value, /)\n",
      " |      Return self^=value.\n",
      " |  \n",
      " |  __le__(self, value, /)\n",
      " |      Return self<=value.\n",
      " |  \n",
      " |  __len__(self, /)\n",
      " |      Return len(self).\n",
      " |  \n",
      " |  __lt__(self, value, /)\n",
      " |      Return self<value.\n",
      " |  \n",
      " |  __ne__(self, value, /)\n",
      " |      Return self!=value.\n",
      " |  \n",
      " |  __or__(self, value, /)\n",
      " |      Return self|value.\n",
      " |  \n",
      " |  __rand__(self, value, /)\n",
      " |      Return value&self.\n",
      " |  \n",
      " |  __reduce__(...)\n",
      " |      Return state information for pickling.\n",
      " |  \n",
      " |  __repr__(self, /)\n",
      " |      Return repr(self).\n",
      " |  \n",
      " |  __ror__(self, value, /)\n",
      " |      Return value|self.\n",
      " |  \n",
      " |  __rsub__(self, value, /)\n",
      " |      Return value-self.\n",
      " |  \n",
      " |  __rxor__(self, value, /)\n",
      " |      Return value^self.\n",
      " |  \n",
      " |  __sizeof__(...)\n",
      " |      S.__sizeof__() -> size of S in memory, in bytes\n",
      " |  \n",
      " |  __sub__(self, value, /)\n",
      " |      Return self-value.\n",
      " |  \n",
      " |  __xor__(self, value, /)\n",
      " |      Return self^value.\n",
      " |  \n",
      " |  add(...)\n",
      " |      Add an element to a set.\n",
      " |      \n",
      " |      This has no effect if the element is already present.\n",
      " |  \n",
      " |  clear(...)\n",
      " |      Remove all elements from this set.\n",
      " |  \n",
      " |  copy(...)\n",
      " |      Return a shallow copy of a set.\n",
      " |  \n",
      " |  difference(...)\n",
      " |      Return the difference of two or more sets as a new set.\n",
      " |      \n",
      " |      (i.e. all elements that are in this set but not the others.)\n",
      " |  \n",
      " |  difference_update(...)\n",
      " |      Remove all elements of another set from this set.\n",
      " |  \n",
      " |  discard(...)\n",
      " |      Remove an element from a set if it is a member.\n",
      " |      \n",
      " |      If the element is not a member, do nothing.\n",
      " |  \n",
      " |  intersection(...)\n",
      " |      Return the intersection of two sets as a new set.\n",
      " |      \n",
      " |      (i.e. all elements that are in both sets.)\n",
      " |  \n",
      " |  intersection_update(...)\n",
      " |      Update a set with the intersection of itself and another.\n",
      " |  \n",
      " |  isdisjoint(...)\n",
      " |      Return True if two sets have a null intersection.\n",
      " |  \n",
      " |  issubset(...)\n",
      " |      Report whether another set contains this set.\n",
      " |  \n",
      " |  issuperset(...)\n",
      " |      Report whether this set contains another set.\n",
      " |  \n",
      " |  pop(...)\n",
      " |      Remove and return an arbitrary set element.\n",
      " |      Raises KeyError if the set is empty.\n",
      " |  \n",
      " |  remove(...)\n",
      " |      Remove an element from a set; it must be a member.\n",
      " |      \n",
      " |      If the element is not a member, raise a KeyError.\n",
      " |  \n",
      " |  symmetric_difference(...)\n",
      " |      Return the symmetric difference of two sets as a new set.\n",
      " |      \n",
      " |      (i.e. all elements that are in exactly one of the sets.)\n",
      " |  \n",
      " |  symmetric_difference_update(...)\n",
      " |      Update a set with the symmetric difference of itself and another.\n",
      " |  \n",
      " |  union(...)\n",
      " |      Return the union of sets as a new set.\n",
      " |      \n",
      " |      (i.e. all elements that are in either set.)\n",
      " |  \n",
      " |  update(...)\n",
      " |      Update a set with the union of itself and others.\n",
      " |  \n",
      " |  ----------------------------------------------------------------------\n",
      " |  Class methods defined here:\n",
      " |  \n",
      " |  __class_getitem__(...) from builtins.type\n",
      " |      See PEP 585\n",
      " |  \n",
      " |  ----------------------------------------------------------------------\n",
      " |  Static methods defined here:\n",
      " |  \n",
      " |  __new__(*args, **kwargs) from builtins.type\n",
      " |      Create and return a new object.  See help(type) for accurate signature.\n",
      " |  \n",
      " |  ----------------------------------------------------------------------\n",
      " |  Data and other attributes defined here:\n",
      " |  \n",
      " |  __hash__ = None\n",
      "\n"
     ]
    }
   ],
   "source": [
    "help(set)"
   ]
  },
  {
   "cell_type": "code",
   "execution_count": 348,
   "id": "b707cd4e",
   "metadata": {},
   "outputs": [],
   "source": [
    "set1 = set({4,3})\n",
    "set2 = set({3,4,5,6})\n"
   ]
  },
  {
   "cell_type": "code",
   "execution_count": 315,
   "id": "fd6087e8",
   "metadata": {},
   "outputs": [
    {
     "data": {
      "text/plain": [
       "{1, 2, 3, 4, 5, 6}"
      ]
     },
     "execution_count": 315,
     "metadata": {},
     "output_type": "execute_result"
    }
   ],
   "source": [
    "set1.union(set2)"
   ]
  },
  {
   "cell_type": "code",
   "execution_count": 323,
   "id": "aaded660",
   "metadata": {},
   "outputs": [
    {
     "data": {
      "text/plain": [
       "{1, 2}"
      ]
     },
     "execution_count": 323,
     "metadata": {},
     "output_type": "execute_result"
    }
   ],
   "source": [
    "set1.difference(set2)"
   ]
  },
  {
   "cell_type": "code",
   "execution_count": 320,
   "id": "3c00f597",
   "metadata": {},
   "outputs": [
    {
     "data": {
      "text/plain": [
       "True"
      ]
     },
     "execution_count": 320,
     "metadata": {},
     "output_type": "execute_result"
    }
   ],
   "source": [
    "set1.isdisjoint(set2)"
   ]
  },
  {
   "cell_type": "code",
   "execution_count": 345,
   "id": "7c7a60e7",
   "metadata": {},
   "outputs": [
    {
     "name": "stdout",
     "output_type": "stream",
     "text": [
      "{1, 2, 4, 5, 6}\n"
     ]
    }
   ],
   "source": [
    "set1.symmetric_difference_update(set2)\n",
    "print(set1)"
   ]
  },
  {
   "cell_type": "code",
   "execution_count": 350,
   "id": "bc32c469",
   "metadata": {},
   "outputs": [
    {
     "data": {
      "text/plain": [
       "True"
      ]
     },
     "execution_count": 350,
     "metadata": {},
     "output_type": "execute_result"
    }
   ],
   "source": [
    "set1.issubset(set2)"
   ]
  },
  {
   "cell_type": "code",
   "execution_count": null,
   "id": "bce7a9c5",
   "metadata": {},
   "outputs": [],
   "source": [
    "# Q- Take an input string from user and return all the unique words from the string\n",
    "    Input  = \"hey user hey tushar hope you are doing well. hey you\"\n",
    "    Output = \"hey user tushar hope you are well.\"\n"
   ]
  },
  {
   "cell_type": "code",
   "execution_count": 364,
   "id": "9c18766e",
   "metadata": {},
   "outputs": [],
   "source": [
    "Input  = \"hey user hey tushar hope you are doing well. hey you\""
   ]
  },
  {
   "cell_type": "code",
   "execution_count": 365,
   "id": "accd8d61",
   "metadata": {},
   "outputs": [],
   "source": [
    "Input =Input.split(\" \")"
   ]
  },
  {
   "cell_type": "code",
   "execution_count": 367,
   "id": "230dd225",
   "metadata": {},
   "outputs": [],
   "source": [
    "setInput = set(Input)\n"
   ]
  },
  {
   "cell_type": "code",
   "execution_count": 371,
   "id": "a3db0192",
   "metadata": {},
   "outputs": [
    {
     "data": {
      "text/plain": [
       "'well. hope user you tushar hey doing are'"
      ]
     },
     "execution_count": 371,
     "metadata": {},
     "output_type": "execute_result"
    }
   ],
   "source": [
    "(\" \").join(x for x in list(setInput))"
   ]
  },
  {
   "cell_type": "markdown",
   "id": "fab9f905",
   "metadata": {},
   "source": [
    "# Q-  In the string find out how many vowels are present with its count"
   ]
  },
  {
   "cell_type": "code",
   "execution_count": 377,
   "id": "5858f06e",
   "metadata": {},
   "outputs": [
    {
     "data": {
      "text/plain": [
       "{'u': 2, 'e': 2}"
      ]
     },
     "execution_count": 377,
     "metadata": {},
     "output_type": "execute_result"
    }
   ],
   "source": [
    "n = 'Futurense'\n",
    "n = list(n)\n",
    "dict1 = {}\n",
    "for x in n:\n",
    "    if x in ['a','e','i','o','u']:\n",
    "        dict1[x] = n.count(x)\n",
    "dict1"
   ]
  },
  {
   "cell_type": "code",
   "execution_count": null,
   "id": "7c4d2806",
   "metadata": {},
   "outputs": [],
   "source": [
    "# Q- Take a input from the user and check for the smallest / least occurance of the character and show in the final \n",
    " output with its occurance in case there is a tie any of the count of first character appearance"
   ]
  },
  {
   "cell_type": "code",
   "execution_count": 385,
   "id": "f1c2fd4d",
   "metadata": {},
   "outputs": [
    {
     "name": "stdout",
     "output_type": "stream",
     "text": [
      "u 2\n"
     ]
    }
   ],
   "source": [
    "n = 'Futurense'\n",
    "n = list(n)\n",
    "dict1 = {}\n",
    "for x in n:\n",
    "    if x in ['a','e','i','o','u']:\n",
    "        dict1[x] = n.count(x)\n",
    "#print(min(dict1.values()))\n",
    "for key, value in dict1.items():\n",
    "    if value == min(dict1.values()):\n",
    "        print(key, value)\n",
    "        break"
   ]
  },
  {
   "cell_type": "code",
   "execution_count": 395,
   "id": "4e934e67",
   "metadata": {},
   "outputs": [
    {
     "name": "stdout",
     "output_type": "stream",
     "text": [
      "Enter first queen coordinate in 4 by 4 chess 1,1\n",
      "Enter second queen coordinate in 4 by 4 chess 2,1\n"
     ]
    }
   ],
   "source": [
    "Q1 = input(\"Enter first queen coordinate in 4 by 4 chess \")\n",
    "Q2 = input(\"Enter second queen coordinate in 4 by 4 chess \")"
   ]
  },
  {
   "cell_type": "code",
   "execution_count": 405,
   "id": "974feead",
   "metadata": {},
   "outputs": [],
   "source": [
    "x1, y1 = Q1.split(\",\")\n",
    "x2, y2 = Q2.split(\",\")"
   ]
  },
  {
   "cell_type": "code",
   "execution_count": null,
   "id": "27a91087",
   "metadata": {},
   "outputs": [],
   "source": [
    "def queencheck(x1,y1,x2,y2):\n",
    "    if x1 == x2:\n",
    "        print(\"Kill\")\n",
    "    elif "
   ]
  },
  {
   "cell_type": "code",
   "execution_count": null,
   "id": "e0f55fdb",
   "metadata": {},
   "outputs": [],
   "source": []
  },
  {
   "cell_type": "code",
   "execution_count": null,
   "id": "491eba7b",
   "metadata": {},
   "outputs": [],
   "source": []
  },
  {
   "cell_type": "code",
   "execution_count": null,
   "id": "3f5f628b",
   "metadata": {},
   "outputs": [],
   "source": []
  },
  {
   "cell_type": "code",
   "execution_count": null,
   "id": "b1b664a2",
   "metadata": {},
   "outputs": [],
   "source": []
  },
  {
   "cell_type": "code",
   "execution_count": null,
   "id": "b789f8c7",
   "metadata": {},
   "outputs": [],
   "source": []
  },
  {
   "cell_type": "code",
   "execution_count": null,
   "id": "00398a81",
   "metadata": {},
   "outputs": [],
   "source": []
  },
  {
   "cell_type": "code",
   "execution_count": null,
   "id": "c42d2d29",
   "metadata": {},
   "outputs": [],
   "source": []
  },
  {
   "cell_type": "code",
   "execution_count": null,
   "id": "18666419",
   "metadata": {},
   "outputs": [],
   "source": []
  },
  {
   "cell_type": "code",
   "execution_count": null,
   "id": "73e5bdd8",
   "metadata": {},
   "outputs": [],
   "source": []
  },
  {
   "cell_type": "code",
   "execution_count": null,
   "id": "b254b8c8",
   "metadata": {},
   "outputs": [],
   "source": []
  },
  {
   "cell_type": "code",
   "execution_count": null,
   "id": "be11f9a9",
   "metadata": {},
   "outputs": [],
   "source": []
  },
  {
   "cell_type": "code",
   "execution_count": null,
   "id": "9329e518",
   "metadata": {},
   "outputs": [],
   "source": []
  },
  {
   "cell_type": "code",
   "execution_count": null,
   "id": "c30ed2bc",
   "metadata": {},
   "outputs": [],
   "source": []
  },
  {
   "cell_type": "markdown",
   "id": "acb41515",
   "metadata": {},
   "source": [
    "## Q- Check the input string provided by the user, in case the string provided is \n",
    "## starting with the vowel we add on ing in the last  otherwise we add on esy in the end of the string?"
   ]
  },
  {
   "cell_type": "code",
   "execution_count": 412,
   "id": "133413e4",
   "metadata": {},
   "outputs": [],
   "source": [
    "\n",
    "n = 'easter'"
   ]
  },
  {
   "cell_type": "code",
   "execution_count": 413,
   "id": "751c9f12",
   "metadata": {},
   "outputs": [
    {
     "name": "stdout",
     "output_type": "stream",
     "text": [
      "eastering\n"
     ]
    }
   ],
   "source": [
    "if n[0] in ['a','e','i','o','u']:\n",
    "    n = n + 'ing'\n",
    "else:\n",
    "    n = n + 'esy'\n",
    "print(n)"
   ]
  },
  {
   "cell_type": "code",
   "execution_count": null,
   "id": "755f0b7a",
   "metadata": {},
   "outputs": [],
   "source": [
    "topics for tomorrow\n",
    " -  functional programming\n",
    " -  Parameter vs Argumen"
   ]
  },
  {
   "cell_type": "code",
   "execution_count": null,
   "id": "3fe769d6",
   "metadata": {},
   "outputs": [],
   "source": []
  },
  {
   "cell_type": "code",
   "execution_count": null,
   "id": "cb135388",
   "metadata": {},
   "outputs": [],
   "source": []
  },
  {
   "cell_type": "code",
   "execution_count": 414,
   "id": "c1e100ff",
   "metadata": {},
   "outputs": [],
   "source": [
    "mylist = [(1,2),(2,3),(3,4)]\n",
    "d = dict(mylist)"
   ]
  },
  {
   "cell_type": "code",
   "execution_count": 415,
   "id": "b816c90f",
   "metadata": {},
   "outputs": [
    {
     "data": {
      "text/plain": [
       "{1: 2, 2: 3, 3: 4}"
      ]
     },
     "execution_count": 415,
     "metadata": {},
     "output_type": "execute_result"
    }
   ],
   "source": [
    "d"
   ]
  },
  {
   "cell_type": "code",
   "execution_count": null,
   "id": "f3359df5",
   "metadata": {},
   "outputs": [],
   "source": []
  }
 ],
 "metadata": {
  "kernelspec": {
   "display_name": "Python 3 (ipykernel)",
   "language": "python",
   "name": "python3"
  },
  "language_info": {
   "codemirror_mode": {
    "name": "ipython",
    "version": 3
   },
   "file_extension": ".py",
   "mimetype": "text/x-python",
   "name": "python",
   "nbconvert_exporter": "python",
   "pygments_lexer": "ipython3",
   "version": "3.9.13"
  }
 },
 "nbformat": 4,
 "nbformat_minor": 5
}
